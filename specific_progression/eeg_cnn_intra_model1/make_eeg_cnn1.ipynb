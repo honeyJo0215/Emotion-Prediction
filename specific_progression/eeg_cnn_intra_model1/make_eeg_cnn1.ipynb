{
 "cells": [
  {
   "cell_type": "code",
   "execution_count": 1,
   "id": "25e1ee81-f430-4033-b557-fdcd4104f79c",
   "metadata": {},
   "outputs": [
    {
     "name": "stderr",
     "output_type": "stream",
     "text": [
      "2024-12-29 05:57:59.737038: E external/local_xla/xla/stream_executor/cuda/cuda_fft.cc:477] Unable to register cuFFT factory: Attempting to register factory for plugin cuFFT when one has already been registered\n",
      "WARNING: All log messages before absl::InitializeLog() is called are written to STDERR\n",
      "E0000 00:00:1735451879.752939  525001 cuda_dnn.cc:8310] Unable to register cuDNN factory: Attempting to register factory for plugin cuDNN when one has already been registered\n",
      "E0000 00:00:1735451879.757831  525001 cuda_blas.cc:1418] Unable to register cuBLAS factory: Attempting to register factory for plugin cuBLAS when one has already been registered\n",
      "2024-12-29 05:57:59.774403: I tensorflow/core/platform/cpu_feature_guard.cc:210] This TensorFlow binary is optimized to use available CPU instructions in performance-critical operations.\n",
      "To enable the following instructions: AVX2 FMA, in other operations, rebuild TensorFlow with the appropriate compiler flags.\n",
      "W0000 00:00:1735451881.419475  525001 gpu_device.cc:2344] Cannot dlopen some GPU libraries. Please make sure the missing libraries mentioned above are installed properly if you would like to use GPU. Follow the guide at https://www.tensorflow.org/install/gpu for how to download and setup the required libraries for your platform.\n",
      "Skipping registering GPU devices...\n"
     ]
    }
   ],
   "source": [
    "import os\n",
    "import numpy as np\n",
    "import tensorflow as tf\n",
    "# TensorFlow 로그 레벨 설정\n",
    "os.environ['TF_CPP_MIN_LOG_LEVEL'] = '2'\n",
    "\n",
    "# GPU 설정\n",
    "gpus = tf.config.experimental.list_physical_devices('GPU')\n",
    "if gpus:\n",
    "    try:\n",
    "        for gpu in gpus:\n",
    "            tf.config.experimental.set_memory_growth(gpu, True)  # 메모리 동적 할당\n",
    "            tf.config.experimental.set_virtual_device_configuration(\n",
    "                gpu,\n",
    "                [tf.config.experimental.VirtualDeviceConfiguration(memory_limit=4096)]  # 메모리 제한\n",
    "            )\n",
    "    except RuntimeError as e:\n",
    "        print(e)\n",
    "from tensorflow.keras.models import Sequential\n",
    "from tensorflow.keras.layers import Input,Conv1D, MaxPooling1D, Flatten, Dense, Dropout\n",
    "from sklearn.model_selection import train_test_split\n",
    "from sklearn.preprocessing import LabelEncoder\n"
   ]
  },
  {
   "cell_type": "code",
   "execution_count": 2,
   "id": "eb2a4caa-7516-40a0-94aa-b3e07f8a0e30",
   "metadata": {},
   "outputs": [],
   "source": [
    "# 데이터 경로\n",
    "data_dir = \"/home/bcml1/sigenv/eeg_band_split\" # npy 파일이 저장된 경로\n",
    "\n",
    "# 데이터 및 라벨 로드 함수\n",
    "def load_data(data_dir):\n",
    "    data = []\n",
    "    labels = []\n",
    "    for file_name in sorted(os.listdir(data_dir)):\n",
    "        if file_name.endswith(\"_bands.npy\"):\n",
    "            # 파일 경로\n",
    "            file_path = os.path.join(data_dir, file_name)\n",
    "\n",
    "            # 주파수 대역 데이터 로드\n",
    "            try:\n",
    "                band_data = np.load(file_path)  # (bands, samples, channels)\n",
    "                alpha_band = band_data[1]  # 예: Alpha band 선택\n",
    "            except Exception as e:\n",
    "                print(f\"Error loading {file_name}: {e}\")\n",
    "                continue\n",
    "\n",
    "            # 파일 이름에서 라벨 추출\n",
    "            label = \"positive\" if \"positive\" in file_name else \"negative\"\n",
    "\n",
    "            # 데이터 및 라벨 추가\n",
    "            for ch_idx in range(alpha_band.shape[1]):  # 채널별로 사용\n",
    "                data.append(alpha_band[:, ch_idx])  # 채널 데이터 추가\n",
    "                labels.append(label)\n",
    "\n",
    "    return np.array(data), np.array(labels)\n"
   ]
  },
  {
   "cell_type": "code",
   "execution_count": 3,
   "id": "4510e06a-9ed8-4834-915d-92fd5e102846",
   "metadata": {},
   "outputs": [],
   "source": [
    "# Conv1D 기반 모델 정의\n",
    "# cnn 모델을 구축하는 코드\n",
    "def build_cnn_model(input_shape):\n",
    "    model = Sequential([\n",
    "        Input(shape=input_shape),\n",
    "        # Convolutional Layer 1\n",
    "        Conv1D(32, kernel_size=3, activation='relu', input_shape=input_shape),\n",
    "        MaxPooling1D(pool_size=2),\n",
    "        Dropout(0.3),\n",
    "\n",
    "        # Convolutional Layer 2\n",
    "        Conv1D(64, kernel_size=3, activation='relu'),\n",
    "        MaxPooling1D(pool_size=2),\n",
    "        Dropout(0.3),\n",
    "\n",
    "        # Convolutional Layer 3\n",
    "        Conv1D(128, kernel_size=3, activation='relu'),\n",
    "        MaxPooling1D(pool_size=2),\n",
    "        Dropout(0.3),\n",
    "\n",
    "        # Flatten Layer\n",
    "        Flatten(),\n",
    "\n",
    "        # Fully Connected Dense Layers\n",
    "        Dense(256, activation='relu'),\n",
    "        Dropout(0.4),\n",
    "        \n",
    "        Dense(128, activation='relu'),\n",
    "        Dropout(0.4),\n",
    "\n",
    "        Dense(64, activation='relu'),\n",
    "        Dropout(0.3),\n",
    "\n",
    "        # Output Layer\n",
    "        Dense(1, activation='sigmoid')  # 이진 분류\n",
    "    ])\n",
    "    return model"
   ]
  },
  {
   "cell_type": "code",
   "execution_count": 4,
   "id": "0690782c-822e-4fad-ad97-0eada62cfb22",
   "metadata": {},
   "outputs": [
    {
     "name": "stdout",
     "output_type": "stream",
     "text": [
      "Data shape: (2576, 5120)\n",
      "Labels shape: (2576,)\n"
     ]
    }
   ],
   "source": [
    "# 데이터 로드\n",
    "X, y = load_data(data_dir)\n",
    "print(\"Data shape:\", X.shape)  # (samples, time)\n",
    "print(\"Labels shape:\", y.shape)"
   ]
  },
  {
   "cell_type": "code",
   "execution_count": 5,
   "id": "4f9fa6c6-05dd-42c5-8435-a7a29ae61cf9",
   "metadata": {},
   "outputs": [
    {
     "name": "stdout",
     "output_type": "stream",
     "text": [
      "Encoded labels: [0 0 0 0 0]\n"
     ]
    }
   ],
   "source": [
    "# 라벨 인코딩 (0: negative, 1: positive)\n",
    "label_encoder = LabelEncoder()\n",
    "y = label_encoder.fit_transform(y)\n",
    "print(\"Encoded labels:\", y[:5])\n"
   ]
  },
  {
   "cell_type": "code",
   "execution_count": 6,
   "id": "2f92ab22-4652-4241-97d0-99c2fd983a6f",
   "metadata": {},
   "outputs": [],
   "source": [
    "# 데이터 정규화\n",
    "X = X / np.max(np.abs(X), axis=1, keepdims=True)  # 정규화\n"
   ]
  },
  {
   "cell_type": "code",
   "execution_count": 7,
   "id": "22338025-6bfe-441a-b987-fbff537058a6",
   "metadata": {},
   "outputs": [],
   "source": [
    "# 데이터 차원 확장 (CNN 입력으로 사용)\n",
    "X = np.expand_dims(X, axis=-1)  # (samples, time, 1)"
   ]
  },
  {
   "cell_type": "code",
   "execution_count": 8,
   "id": "0638a135-e155-46e1-8ef5-c573fa39038f",
   "metadata": {},
   "outputs": [
    {
     "name": "stdout",
     "output_type": "stream",
     "text": [
      "Training data shape: (2060, 5120, 1)\n",
      "Validation data shape: (516, 5120, 1)\n"
     ]
    }
   ],
   "source": [
    "# 학습/검증 데이터 분리\n",
    "X_train, X_val, y_train, y_val = train_test_split(X, y, test_size=0.2, random_state=42)\n",
    "print(\"Training data shape:\", X_train.shape)\n",
    "print(\"Validation data shape:\", X_val.shape)"
   ]
  },
  {
   "cell_type": "code",
   "execution_count": 9,
   "id": "63fc2928-ccc6-46ea-9e7f-e6a8d858c335",
   "metadata": {},
   "outputs": [
    {
     "name": "stderr",
     "output_type": "stream",
     "text": [
      "/home/bcml1/sigenv/lib/python3.12/site-packages/keras/src/layers/convolutional/base_conv.py:107: UserWarning: Do not pass an `input_shape`/`input_dim` argument to a layer. When using Sequential models, prefer using an `Input(shape)` object as the first layer in the model instead.\n",
      "  super().__init__(activity_regularizer=activity_regularizer, **kwargs)\n"
     ]
    }
   ],
   "source": [
    "# 모델 생성\n",
    "input_shape = (X_train.shape[1], X_train.shape[2])  # (time, 1)\n",
    "model = build_cnn_model(input_shape)\n",
    "model.compile(optimizer='adam', loss='binary_crossentropy', metrics=['accuracy'])"
   ]
  },
  {
   "cell_type": "code",
   "execution_count": 10,
   "id": "812eac9e-2d3d-45ce-a111-66206fbab993",
   "metadata": {},
   "outputs": [
    {
     "name": "stdout",
     "output_type": "stream",
     "text": [
      "Epoch 1/100\n",
      "\u001b[1m65/65\u001b[0m \u001b[32m━━━━━━━━━━━━━━━━━━━━\u001b[0m\u001b[37m\u001b[0m \u001b[1m24s\u001b[0m 348ms/step - accuracy: 0.5235 - loss: 0.7106 - val_accuracy: 0.4496 - val_loss: 0.6938\n",
      "Epoch 2/100\n",
      "\u001b[1m65/65\u001b[0m \u001b[32m━━━━━━━━━━━━━━━━━━━━\u001b[0m\u001b[37m\u001b[0m \u001b[1m22s\u001b[0m 341ms/step - accuracy: 0.5445 - loss: 0.6923 - val_accuracy: 0.4496 - val_loss: 0.6939\n",
      "Epoch 3/100\n",
      "\u001b[1m65/65\u001b[0m \u001b[32m━━━━━━━━━━━━━━━━━━━━\u001b[0m\u001b[37m\u001b[0m \u001b[1m22s\u001b[0m 340ms/step - accuracy: 0.5547 - loss: 0.6893 - val_accuracy: 0.5969 - val_loss: 0.6832\n",
      "Epoch 4/100\n",
      "\u001b[1m65/65\u001b[0m \u001b[32m━━━━━━━━━━━━━━━━━━━━\u001b[0m\u001b[37m\u001b[0m \u001b[1m22s\u001b[0m 333ms/step - accuracy: 0.6298 - loss: 0.6570 - val_accuracy: 0.6047 - val_loss: 0.6717\n",
      "Epoch 5/100\n",
      "\u001b[1m65/65\u001b[0m \u001b[32m━━━━━━━━━━━━━━━━━━━━\u001b[0m\u001b[37m\u001b[0m \u001b[1m21s\u001b[0m 330ms/step - accuracy: 0.7230 - loss: 0.5845 - val_accuracy: 0.6105 - val_loss: 0.6642\n",
      "Epoch 6/100\n",
      "\u001b[1m65/65\u001b[0m \u001b[32m━━━━━━━━━━━━━━━━━━━━\u001b[0m\u001b[37m\u001b[0m \u001b[1m22s\u001b[0m 332ms/step - accuracy: 0.7606 - loss: 0.5156 - val_accuracy: 0.6453 - val_loss: 0.6385\n",
      "Epoch 7/100\n",
      "\u001b[1m65/65\u001b[0m \u001b[32m━━━━━━━━━━━━━━━━━━━━\u001b[0m\u001b[37m\u001b[0m \u001b[1m22s\u001b[0m 334ms/step - accuracy: 0.8165 - loss: 0.4367 - val_accuracy: 0.6860 - val_loss: 0.5924\n",
      "Epoch 8/100\n",
      "\u001b[1m65/65\u001b[0m \u001b[32m━━━━━━━━━━━━━━━━━━━━\u001b[0m\u001b[37m\u001b[0m \u001b[1m22s\u001b[0m 340ms/step - accuracy: 0.8623 - loss: 0.3204 - val_accuracy: 0.7112 - val_loss: 0.6714\n",
      "Epoch 9/100\n",
      "\u001b[1m65/65\u001b[0m \u001b[32m━━━━━━━━━━━━━━━━━━━━\u001b[0m\u001b[37m\u001b[0m \u001b[1m23s\u001b[0m 349ms/step - accuracy: 0.9095 - loss: 0.2147 - val_accuracy: 0.7403 - val_loss: 0.6011\n",
      "Epoch 10/100\n",
      "\u001b[1m65/65\u001b[0m \u001b[32m━━━━━━━━━━━━━━━━━━━━\u001b[0m\u001b[37m\u001b[0m \u001b[1m21s\u001b[0m 328ms/step - accuracy: 0.9333 - loss: 0.1651 - val_accuracy: 0.7616 - val_loss: 0.6324\n",
      "Epoch 11/100\n",
      "\u001b[1m65/65\u001b[0m \u001b[32m━━━━━━━━━━━━━━━━━━━━\u001b[0m\u001b[37m\u001b[0m \u001b[1m20s\u001b[0m 314ms/step - accuracy: 0.9598 - loss: 0.1133 - val_accuracy: 0.7655 - val_loss: 0.6352\n",
      "Epoch 12/100\n",
      "\u001b[1m65/65\u001b[0m \u001b[32m━━━━━━━━━━━━━━━━━━━━\u001b[0m\u001b[37m\u001b[0m \u001b[1m21s\u001b[0m 317ms/step - accuracy: 0.9681 - loss: 0.0902 - val_accuracy: 0.7713 - val_loss: 0.8043\n",
      "Epoch 13/100\n",
      "\u001b[1m65/65\u001b[0m \u001b[32m━━━━━━━━━━━━━━━━━━━━\u001b[0m\u001b[37m\u001b[0m \u001b[1m21s\u001b[0m 317ms/step - accuracy: 0.9806 - loss: 0.0683 - val_accuracy: 0.7694 - val_loss: 0.8400\n",
      "Epoch 14/100\n",
      "\u001b[1m65/65\u001b[0m \u001b[32m━━━━━━━━━━━━━━━━━━━━\u001b[0m\u001b[37m\u001b[0m \u001b[1m21s\u001b[0m 321ms/step - accuracy: 0.9779 - loss: 0.0599 - val_accuracy: 0.7655 - val_loss: 0.7703\n",
      "Epoch 15/100\n",
      "\u001b[1m65/65\u001b[0m \u001b[32m━━━━━━━━━━━━━━━━━━━━\u001b[0m\u001b[37m\u001b[0m \u001b[1m21s\u001b[0m 324ms/step - accuracy: 0.9832 - loss: 0.0530 - val_accuracy: 0.7713 - val_loss: 0.8289\n",
      "Epoch 16/100\n",
      "\u001b[1m65/65\u001b[0m \u001b[32m━━━━━━━━━━━━━━━━━━━━\u001b[0m\u001b[37m\u001b[0m \u001b[1m21s\u001b[0m 328ms/step - accuracy: 0.9840 - loss: 0.0464 - val_accuracy: 0.7694 - val_loss: 1.0239\n",
      "Epoch 17/100\n",
      "\u001b[1m65/65\u001b[0m \u001b[32m━━━━━━━━━━━━━━━━━━━━\u001b[0m\u001b[37m\u001b[0m \u001b[1m22s\u001b[0m 340ms/step - accuracy: 0.9797 - loss: 0.0484 - val_accuracy: 0.7558 - val_loss: 0.8806\n",
      "Epoch 18/100\n",
      "\u001b[1m65/65\u001b[0m \u001b[32m━━━━━━━━━━━━━━━━━━━━\u001b[0m\u001b[37m\u001b[0m \u001b[1m21s\u001b[0m 324ms/step - accuracy: 0.9867 - loss: 0.0360 - val_accuracy: 0.7694 - val_loss: 0.8191\n",
      "Epoch 19/100\n",
      "\u001b[1m65/65\u001b[0m \u001b[32m━━━━━━━━━━━━━━━━━━━━\u001b[0m\u001b[37m\u001b[0m \u001b[1m21s\u001b[0m 318ms/step - accuracy: 0.9873 - loss: 0.0314 - val_accuracy: 0.7771 - val_loss: 0.8596\n",
      "Epoch 20/100\n",
      "\u001b[1m65/65\u001b[0m \u001b[32m━━━━━━━━━━━━━━━━━━━━\u001b[0m\u001b[37m\u001b[0m \u001b[1m21s\u001b[0m 322ms/step - accuracy: 0.9825 - loss: 0.0459 - val_accuracy: 0.7907 - val_loss: 0.8312\n",
      "Epoch 21/100\n",
      "\u001b[1m65/65\u001b[0m \u001b[32m━━━━━━━━━━━━━━━━━━━━\u001b[0m\u001b[37m\u001b[0m \u001b[1m21s\u001b[0m 322ms/step - accuracy: 0.9952 - loss: 0.0203 - val_accuracy: 0.7810 - val_loss: 0.9180\n",
      "Epoch 22/100\n",
      "\u001b[1m65/65\u001b[0m \u001b[32m━━━━━━━━━━━━━━━━━━━━\u001b[0m\u001b[37m\u001b[0m \u001b[1m21s\u001b[0m 320ms/step - accuracy: 0.9886 - loss: 0.0312 - val_accuracy: 0.7810 - val_loss: 0.9117\n",
      "Epoch 23/100\n",
      "\u001b[1m65/65\u001b[0m \u001b[32m━━━━━━━━━━━━━━━━━━━━\u001b[0m\u001b[37m\u001b[0m \u001b[1m21s\u001b[0m 323ms/step - accuracy: 0.9883 - loss: 0.0337 - val_accuracy: 0.7791 - val_loss: 0.9423\n",
      "Epoch 24/100\n",
      "\u001b[1m65/65\u001b[0m \u001b[32m━━━━━━━━━━━━━━━━━━━━\u001b[0m\u001b[37m\u001b[0m \u001b[1m21s\u001b[0m 322ms/step - accuracy: 0.9897 - loss: 0.0263 - val_accuracy: 0.7674 - val_loss: 0.7693\n",
      "Epoch 25/100\n",
      "\u001b[1m65/65\u001b[0m \u001b[32m━━━━━━━━━━━━━━━━━━━━\u001b[0m\u001b[37m\u001b[0m \u001b[1m21s\u001b[0m 326ms/step - accuracy: 0.9928 - loss: 0.0221 - val_accuracy: 0.7694 - val_loss: 1.0974\n",
      "Epoch 26/100\n",
      "\u001b[1m65/65\u001b[0m \u001b[32m━━━━━━━━━━━━━━━━━━━━\u001b[0m\u001b[37m\u001b[0m \u001b[1m21s\u001b[0m 325ms/step - accuracy: 0.9848 - loss: 0.0348 - val_accuracy: 0.7771 - val_loss: 0.8580\n",
      "Epoch 27/100\n",
      "\u001b[1m65/65\u001b[0m \u001b[32m━━━━━━━━━━━━━━━━━━━━\u001b[0m\u001b[37m\u001b[0m \u001b[1m21s\u001b[0m 326ms/step - accuracy: 0.9954 - loss: 0.0163 - val_accuracy: 0.7791 - val_loss: 0.9520\n",
      "Epoch 28/100\n",
      "\u001b[1m65/65\u001b[0m \u001b[32m━━━━━━━━━━━━━━━━━━━━\u001b[0m\u001b[37m\u001b[0m \u001b[1m21s\u001b[0m 328ms/step - accuracy: 0.9956 - loss: 0.0141 - val_accuracy: 0.7752 - val_loss: 0.8137\n",
      "Epoch 29/100\n",
      "\u001b[1m65/65\u001b[0m \u001b[32m━━━━━━━━━━━━━━━━━━━━\u001b[0m\u001b[37m\u001b[0m \u001b[1m21s\u001b[0m 329ms/step - accuracy: 0.9877 - loss: 0.0277 - val_accuracy: 0.7829 - val_loss: 0.9374\n",
      "Epoch 30/100\n",
      "\u001b[1m65/65\u001b[0m \u001b[32m━━━━━━━━━━━━━━━━━━━━\u001b[0m\u001b[37m\u001b[0m \u001b[1m22s\u001b[0m 343ms/step - accuracy: 0.9880 - loss: 0.0337 - val_accuracy: 0.7888 - val_loss: 0.9686\n",
      "Epoch 31/100\n",
      "\u001b[1m65/65\u001b[0m \u001b[32m━━━━━━━━━━━━━━━━━━━━\u001b[0m\u001b[37m\u001b[0m \u001b[1m22s\u001b[0m 332ms/step - accuracy: 0.9955 - loss: 0.0168 - val_accuracy: 0.7636 - val_loss: 0.9225\n",
      "Epoch 32/100\n",
      "\u001b[1m65/65\u001b[0m \u001b[32m━━━━━━━━━━━━━━━━━━━━\u001b[0m\u001b[37m\u001b[0m \u001b[1m21s\u001b[0m 329ms/step - accuracy: 0.9950 - loss: 0.0154 - val_accuracy: 0.7616 - val_loss: 0.8929\n",
      "Epoch 33/100\n",
      "\u001b[1m65/65\u001b[0m \u001b[32m━━━━━━━━━━━━━━━━━━━━\u001b[0m\u001b[37m\u001b[0m \u001b[1m22s\u001b[0m 331ms/step - accuracy: 0.9899 - loss: 0.0258 - val_accuracy: 0.7636 - val_loss: 1.0980\n",
      "Epoch 34/100\n",
      "\u001b[1m65/65\u001b[0m \u001b[32m━━━━━━━━━━━━━━━━━━━━\u001b[0m\u001b[37m\u001b[0m \u001b[1m22s\u001b[0m 331ms/step - accuracy: 0.9893 - loss: 0.0296 - val_accuracy: 0.7752 - val_loss: 0.9247\n",
      "Epoch 35/100\n",
      "\u001b[1m65/65\u001b[0m \u001b[32m━━━━━━━━━━━━━━━━━━━━\u001b[0m\u001b[37m\u001b[0m \u001b[1m22s\u001b[0m 332ms/step - accuracy: 0.9961 - loss: 0.0128 - val_accuracy: 0.7733 - val_loss: 0.9218\n",
      "Epoch 36/100\n",
      "\u001b[1m65/65\u001b[0m \u001b[32m━━━━━━━━━━━━━━━━━━━━\u001b[0m\u001b[37m\u001b[0m \u001b[1m22s\u001b[0m 331ms/step - accuracy: 0.9926 - loss: 0.0213 - val_accuracy: 0.7694 - val_loss: 0.9371\n",
      "Epoch 37/100\n",
      "\u001b[1m65/65\u001b[0m \u001b[32m━━━━━━━━━━━━━━━━━━━━\u001b[0m\u001b[37m\u001b[0m \u001b[1m21s\u001b[0m 330ms/step - accuracy: 0.9978 - loss: 0.0089 - val_accuracy: 0.7752 - val_loss: 1.0894\n",
      "Epoch 38/100\n",
      "\u001b[1m65/65\u001b[0m \u001b[32m━━━━━━━━━━━━━━━━━━━━\u001b[0m\u001b[37m\u001b[0m \u001b[1m21s\u001b[0m 330ms/step - accuracy: 0.9973 - loss: 0.0099 - val_accuracy: 0.7926 - val_loss: 1.0197\n",
      "Epoch 39/100\n",
      "\u001b[1m65/65\u001b[0m \u001b[32m━━━━━━━━━━━━━━━━━━━━\u001b[0m\u001b[37m\u001b[0m \u001b[1m21s\u001b[0m 328ms/step - accuracy: 0.9983 - loss: 0.0049 - val_accuracy: 0.7984 - val_loss: 1.0992\n",
      "Epoch 40/100\n",
      "\u001b[1m65/65\u001b[0m \u001b[32m━━━━━━━━━━━━━━━━━━━━\u001b[0m\u001b[37m\u001b[0m \u001b[1m21s\u001b[0m 329ms/step - accuracy: 0.9980 - loss: 0.0082 - val_accuracy: 0.7849 - val_loss: 1.2022\n",
      "Epoch 41/100\n",
      "\u001b[1m65/65\u001b[0m \u001b[32m━━━━━━━━━━━━━━━━━━━━\u001b[0m\u001b[37m\u001b[0m \u001b[1m21s\u001b[0m 328ms/step - accuracy: 0.9968 - loss: 0.0109 - val_accuracy: 0.7810 - val_loss: 1.0943\n",
      "Epoch 42/100\n",
      "\u001b[1m65/65\u001b[0m \u001b[32m━━━━━━━━━━━━━━━━━━━━\u001b[0m\u001b[37m\u001b[0m \u001b[1m21s\u001b[0m 331ms/step - accuracy: 0.9951 - loss: 0.0175 - val_accuracy: 0.7829 - val_loss: 1.0415\n",
      "Epoch 43/100\n",
      "\u001b[1m65/65\u001b[0m \u001b[32m━━━━━━━━━━━━━━━━━━━━\u001b[0m\u001b[37m\u001b[0m \u001b[1m21s\u001b[0m 329ms/step - accuracy: 0.9957 - loss: 0.0113 - val_accuracy: 0.7849 - val_loss: 0.9902\n",
      "Epoch 44/100\n",
      "\u001b[1m65/65\u001b[0m \u001b[32m━━━━━━━━━━━━━━━━━━━━\u001b[0m\u001b[37m\u001b[0m \u001b[1m22s\u001b[0m 336ms/step - accuracy: 0.9962 - loss: 0.0133 - val_accuracy: 0.7946 - val_loss: 0.8852\n",
      "Epoch 45/100\n",
      "\u001b[1m65/65\u001b[0m \u001b[32m━━━━━━━━━━━━━━━━━━━━\u001b[0m\u001b[37m\u001b[0m \u001b[1m22s\u001b[0m 332ms/step - accuracy: 0.9977 - loss: 0.0075 - val_accuracy: 0.7810 - val_loss: 0.9561\n",
      "Epoch 46/100\n",
      "\u001b[1m65/65\u001b[0m \u001b[32m━━━━━━━━━━━━━━━━━━━━\u001b[0m\u001b[37m\u001b[0m \u001b[1m22s\u001b[0m 335ms/step - accuracy: 0.9983 - loss: 0.0066 - val_accuracy: 0.7907 - val_loss: 0.8531\n",
      "Epoch 47/100\n",
      "\u001b[1m65/65\u001b[0m \u001b[32m━━━━━━━━━━━━━━━━━━━━\u001b[0m\u001b[37m\u001b[0m \u001b[1m22s\u001b[0m 334ms/step - accuracy: 0.9914 - loss: 0.0263 - val_accuracy: 0.7868 - val_loss: 1.1671\n",
      "Epoch 48/100\n",
      "\u001b[1m65/65\u001b[0m \u001b[32m━━━━━━━━━━━━━━━━━━━━\u001b[0m\u001b[37m\u001b[0m \u001b[1m22s\u001b[0m 333ms/step - accuracy: 0.9969 - loss: 0.0097 - val_accuracy: 0.7946 - val_loss: 0.8840\n",
      "Epoch 49/100\n",
      "\u001b[1m65/65\u001b[0m \u001b[32m━━━━━━━━━━━━━━━━━━━━\u001b[0m\u001b[37m\u001b[0m \u001b[1m21s\u001b[0m 329ms/step - accuracy: 0.9948 - loss: 0.0175 - val_accuracy: 0.7849 - val_loss: 0.9089\n",
      "Epoch 50/100\n",
      "\u001b[1m65/65\u001b[0m \u001b[32m━━━━━━━━━━━━━━━━━━━━\u001b[0m\u001b[37m\u001b[0m \u001b[1m22s\u001b[0m 332ms/step - accuracy: 0.9989 - loss: 0.0063 - val_accuracy: 0.7946 - val_loss: 1.0482\n",
      "Epoch 51/100\n",
      "\u001b[1m65/65\u001b[0m \u001b[32m━━━━━━━━━━━━━━━━━━━━\u001b[0m\u001b[37m\u001b[0m \u001b[1m21s\u001b[0m 329ms/step - accuracy: 0.9964 - loss: 0.0115 - val_accuracy: 0.7868 - val_loss: 0.9859\n",
      "Epoch 52/100\n",
      "\u001b[1m65/65\u001b[0m \u001b[32m━━━━━━━━━━━━━━━━━━━━\u001b[0m\u001b[37m\u001b[0m \u001b[1m22s\u001b[0m 332ms/step - accuracy: 0.9967 - loss: 0.0068 - val_accuracy: 0.7694 - val_loss: 1.3087\n",
      "Epoch 53/100\n",
      "\u001b[1m65/65\u001b[0m \u001b[32m━━━━━━━━━━━━━━━━━━━━\u001b[0m\u001b[37m\u001b[0m \u001b[1m22s\u001b[0m 343ms/step - accuracy: 0.9939 - loss: 0.0283 - val_accuracy: 0.7868 - val_loss: 0.8810\n",
      "Epoch 54/100\n",
      "\u001b[1m65/65\u001b[0m \u001b[32m━━━━━━━━━━━━━━━━━━━━\u001b[0m\u001b[37m\u001b[0m \u001b[1m21s\u001b[0m 325ms/step - accuracy: 0.9926 - loss: 0.0153 - val_accuracy: 0.7829 - val_loss: 0.8527\n",
      "Epoch 55/100\n",
      "\u001b[1m65/65\u001b[0m \u001b[32m━━━━━━━━━━━━━━━━━━━━\u001b[0m\u001b[37m\u001b[0m \u001b[1m21s\u001b[0m 330ms/step - accuracy: 0.9953 - loss: 0.0129 - val_accuracy: 0.7849 - val_loss: 1.0595\n",
      "Epoch 56/100\n",
      "\u001b[1m65/65\u001b[0m \u001b[32m━━━━━━━━━━━━━━━━━━━━\u001b[0m\u001b[37m\u001b[0m \u001b[1m21s\u001b[0m 329ms/step - accuracy: 0.9991 - loss: 0.0035 - val_accuracy: 0.7752 - val_loss: 1.1782\n",
      "Epoch 57/100\n",
      "\u001b[1m65/65\u001b[0m \u001b[32m━━━━━━━━━━━━━━━━━━━━\u001b[0m\u001b[37m\u001b[0m \u001b[1m22s\u001b[0m 333ms/step - accuracy: 0.9953 - loss: 0.0102 - val_accuracy: 0.7868 - val_loss: 1.1087\n",
      "Epoch 58/100\n",
      "\u001b[1m65/65\u001b[0m \u001b[32m━━━━━━━━━━━━━━━━━━━━\u001b[0m\u001b[37m\u001b[0m \u001b[1m21s\u001b[0m 330ms/step - accuracy: 0.9981 - loss: 0.0077 - val_accuracy: 0.7907 - val_loss: 0.9748\n",
      "Epoch 59/100\n",
      "\u001b[1m65/65\u001b[0m \u001b[32m━━━━━━━━━━━━━━━━━━━━\u001b[0m\u001b[37m\u001b[0m \u001b[1m22s\u001b[0m 331ms/step - accuracy: 0.9962 - loss: 0.0091 - val_accuracy: 0.7771 - val_loss: 1.1209\n",
      "Epoch 60/100\n",
      "\u001b[1m65/65\u001b[0m \u001b[32m━━━━━━━━━━━━━━━━━━━━\u001b[0m\u001b[37m\u001b[0m \u001b[1m21s\u001b[0m 331ms/step - accuracy: 0.9985 - loss: 0.0029 - val_accuracy: 0.7888 - val_loss: 1.2291\n",
      "Epoch 61/100\n",
      "\u001b[1m65/65\u001b[0m \u001b[32m━━━━━━━━━━━━━━━━━━━━\u001b[0m\u001b[37m\u001b[0m \u001b[1m22s\u001b[0m 331ms/step - accuracy: 0.9949 - loss: 0.0088 - val_accuracy: 0.7752 - val_loss: 1.0599\n",
      "Epoch 62/100\n",
      "\u001b[1m65/65\u001b[0m \u001b[32m━━━━━━━━━━━━━━━━━━━━\u001b[0m\u001b[37m\u001b[0m \u001b[1m22s\u001b[0m 333ms/step - accuracy: 0.9976 - loss: 0.0078 - val_accuracy: 0.7810 - val_loss: 1.3701\n",
      "Epoch 63/100\n",
      "\u001b[1m65/65\u001b[0m \u001b[32m━━━━━━━━━━━━━━━━━━━━\u001b[0m\u001b[37m\u001b[0m \u001b[1m22s\u001b[0m 332ms/step - accuracy: 0.9981 - loss: 0.0055 - val_accuracy: 0.7810 - val_loss: 1.7009\n",
      "Epoch 64/100\n",
      "\u001b[1m65/65\u001b[0m \u001b[32m━━━━━━━━━━━━━━━━━━━━\u001b[0m\u001b[37m\u001b[0m \u001b[1m22s\u001b[0m 332ms/step - accuracy: 0.9910 - loss: 0.0223 - val_accuracy: 0.7655 - val_loss: 1.2436\n",
      "Epoch 65/100\n",
      "\u001b[1m65/65\u001b[0m \u001b[32m━━━━━━━━━━━━━━━━━━━━\u001b[0m\u001b[37m\u001b[0m \u001b[1m22s\u001b[0m 344ms/step - accuracy: 0.9887 - loss: 0.0594 - val_accuracy: 0.7597 - val_loss: 1.1108\n",
      "Epoch 66/100\n",
      "\u001b[1m65/65\u001b[0m \u001b[32m━━━━━━━━━━━━━━━━━━━━\u001b[0m\u001b[37m\u001b[0m \u001b[1m22s\u001b[0m 342ms/step - accuracy: 0.9969 - loss: 0.0105 - val_accuracy: 0.7868 - val_loss: 0.9816\n",
      "Epoch 67/100\n",
      "\u001b[1m65/65\u001b[0m \u001b[32m━━━━━━━━━━━━━━━━━━━━\u001b[0m\u001b[37m\u001b[0m \u001b[1m22s\u001b[0m 343ms/step - accuracy: 0.9987 - loss: 0.0078 - val_accuracy: 0.8004 - val_loss: 1.0328\n",
      "Epoch 68/100\n",
      "\u001b[1m65/65\u001b[0m \u001b[32m━━━━━━━━━━━━━━━━━━━━\u001b[0m\u001b[37m\u001b[0m \u001b[1m22s\u001b[0m 340ms/step - accuracy: 0.9959 - loss: 0.0192 - val_accuracy: 0.7849 - val_loss: 1.2487\n",
      "Epoch 69/100\n",
      "\u001b[1m65/65\u001b[0m \u001b[32m━━━━━━━━━━━━━━━━━━━━\u001b[0m\u001b[37m\u001b[0m \u001b[1m23s\u001b[0m 346ms/step - accuracy: 0.9948 - loss: 0.0107 - val_accuracy: 0.8004 - val_loss: 1.1969\n",
      "Epoch 70/100\n",
      "\u001b[1m65/65\u001b[0m \u001b[32m━━━━━━━━━━━━━━━━━━━━\u001b[0m\u001b[37m\u001b[0m \u001b[1m22s\u001b[0m 338ms/step - accuracy: 0.9987 - loss: 0.0052 - val_accuracy: 0.7771 - val_loss: 1.0847\n",
      "Epoch 71/100\n",
      "\u001b[1m65/65\u001b[0m \u001b[32m━━━━━━━━━━━━━━━━━━━━\u001b[0m\u001b[37m\u001b[0m \u001b[1m22s\u001b[0m 335ms/step - accuracy: 0.9984 - loss: 0.0078 - val_accuracy: 0.7810 - val_loss: 1.2377\n",
      "Epoch 72/100\n",
      "\u001b[1m65/65\u001b[0m \u001b[32m━━━━━━━━━━━━━━━━━━━━\u001b[0m\u001b[37m\u001b[0m \u001b[1m22s\u001b[0m 334ms/step - accuracy: 0.9984 - loss: 0.0033 - val_accuracy: 0.7849 - val_loss: 1.3099\n",
      "Epoch 73/100\n",
      "\u001b[1m65/65\u001b[0m \u001b[32m━━━━━━━━━━━━━━━━━━━━\u001b[0m\u001b[37m\u001b[0m \u001b[1m22s\u001b[0m 339ms/step - accuracy: 0.9987 - loss: 0.0050 - val_accuracy: 0.7771 - val_loss: 1.3226\n",
      "Epoch 74/100\n",
      "\u001b[1m65/65\u001b[0m \u001b[32m━━━━━━━━━━━━━━━━━━━━\u001b[0m\u001b[37m\u001b[0m \u001b[1m22s\u001b[0m 344ms/step - accuracy: 0.9970 - loss: 0.0091 - val_accuracy: 0.7752 - val_loss: 1.1969\n",
      "Epoch 75/100\n",
      "\u001b[1m65/65\u001b[0m \u001b[32m━━━━━━━━━━━━━━━━━━━━\u001b[0m\u001b[37m\u001b[0m \u001b[1m22s\u001b[0m 346ms/step - accuracy: 0.9988 - loss: 0.0047 - val_accuracy: 0.7733 - val_loss: 1.4566\n",
      "Epoch 76/100\n",
      "\u001b[1m65/65\u001b[0m \u001b[32m━━━━━━━━━━━━━━━━━━━━\u001b[0m\u001b[37m\u001b[0m \u001b[1m22s\u001b[0m 338ms/step - accuracy: 0.9975 - loss: 0.0081 - val_accuracy: 0.7849 - val_loss: 1.3001\n",
      "Epoch 77/100\n",
      "\u001b[1m65/65\u001b[0m \u001b[32m━━━━━━━━━━━━━━━━━━━━\u001b[0m\u001b[37m\u001b[0m \u001b[1m22s\u001b[0m 341ms/step - accuracy: 0.9984 - loss: 0.0050 - val_accuracy: 0.7868 - val_loss: 1.1718\n",
      "Epoch 78/100\n",
      "\u001b[1m65/65\u001b[0m \u001b[32m━━━━━━━━━━━━━━━━━━━━\u001b[0m\u001b[37m\u001b[0m \u001b[1m22s\u001b[0m 335ms/step - accuracy: 0.9974 - loss: 0.0042 - val_accuracy: 0.7771 - val_loss: 1.3527\n",
      "Epoch 79/100\n",
      "\u001b[1m65/65\u001b[0m \u001b[32m━━━━━━━━━━━━━━━━━━━━\u001b[0m\u001b[37m\u001b[0m \u001b[1m22s\u001b[0m 335ms/step - accuracy: 0.9989 - loss: 0.0050 - val_accuracy: 0.7829 - val_loss: 1.1711\n",
      "Epoch 80/100\n",
      "\u001b[1m65/65\u001b[0m \u001b[32m━━━━━━━━━━━━━━━━━━━━\u001b[0m\u001b[37m\u001b[0m \u001b[1m22s\u001b[0m 338ms/step - accuracy: 0.9997 - loss: 0.0017 - val_accuracy: 0.7713 - val_loss: 1.5240\n",
      "Epoch 81/100\n",
      "\u001b[1m65/65\u001b[0m \u001b[32m━━━━━━━━━━━━━━━━━━━━\u001b[0m\u001b[37m\u001b[0m \u001b[1m22s\u001b[0m 336ms/step - accuracy: 0.9969 - loss: 0.0066 - val_accuracy: 0.7733 - val_loss: 1.2031\n",
      "Epoch 82/100\n",
      "\u001b[1m65/65\u001b[0m \u001b[32m━━━━━━━━━━━━━━━━━━━━\u001b[0m\u001b[37m\u001b[0m \u001b[1m22s\u001b[0m 338ms/step - accuracy: 0.9998 - loss: 0.0031 - val_accuracy: 0.7829 - val_loss: 1.2241\n",
      "Epoch 83/100\n",
      "\u001b[1m65/65\u001b[0m \u001b[32m━━━━━━━━━━━━━━━━━━━━\u001b[0m\u001b[37m\u001b[0m \u001b[1m22s\u001b[0m 339ms/step - accuracy: 0.9968 - loss: 0.0148 - val_accuracy: 0.7829 - val_loss: 1.1975\n",
      "Epoch 84/100\n",
      "\u001b[1m65/65\u001b[0m \u001b[32m━━━━━━━━━━━━━━━━━━━━\u001b[0m\u001b[37m\u001b[0m \u001b[1m22s\u001b[0m 337ms/step - accuracy: 0.9990 - loss: 0.0023 - val_accuracy: 0.7849 - val_loss: 1.3876\n",
      "Epoch 85/100\n",
      "\u001b[1m65/65\u001b[0m \u001b[32m━━━━━━━━━━━━━━━━━━━━\u001b[0m\u001b[37m\u001b[0m \u001b[1m21s\u001b[0m 323ms/step - accuracy: 0.9994 - loss: 0.0042 - val_accuracy: 0.7810 - val_loss: 1.1512\n",
      "Epoch 86/100\n",
      "\u001b[1m65/65\u001b[0m \u001b[32m━━━━━━━━━━━━━━━━━━━━\u001b[0m\u001b[37m\u001b[0m \u001b[1m23s\u001b[0m 348ms/step - accuracy: 0.9970 - loss: 0.0080 - val_accuracy: 0.7791 - val_loss: 1.2905\n",
      "Epoch 87/100\n",
      "\u001b[1m65/65\u001b[0m \u001b[32m━━━━━━━━━━━━━━━━━━━━\u001b[0m\u001b[37m\u001b[0m \u001b[1m21s\u001b[0m 326ms/step - accuracy: 1.0000 - loss: 0.0020 - val_accuracy: 0.7752 - val_loss: 1.5805\n",
      "Epoch 88/100\n",
      "\u001b[1m65/65\u001b[0m \u001b[32m━━━━━━━━━━━━━━━━━━━━\u001b[0m\u001b[37m\u001b[0m \u001b[1m21s\u001b[0m 325ms/step - accuracy: 0.9985 - loss: 0.0026 - val_accuracy: 0.7733 - val_loss: 1.7047\n",
      "Epoch 89/100\n",
      "\u001b[1m65/65\u001b[0m \u001b[32m━━━━━━━━━━━━━━━━━━━━\u001b[0m\u001b[37m\u001b[0m \u001b[1m21s\u001b[0m 323ms/step - accuracy: 0.9979 - loss: 0.0048 - val_accuracy: 0.7984 - val_loss: 1.4420\n",
      "Epoch 90/100\n",
      "\u001b[1m65/65\u001b[0m \u001b[32m━━━━━━━━━━━━━━━━━━━━\u001b[0m\u001b[37m\u001b[0m \u001b[1m21s\u001b[0m 329ms/step - accuracy: 1.0000 - loss: 4.6636e-04 - val_accuracy: 0.7829 - val_loss: 1.6159\n",
      "Epoch 91/100\n",
      "\u001b[1m65/65\u001b[0m \u001b[32m━━━━━━━━━━━━━━━━━━━━\u001b[0m\u001b[37m\u001b[0m \u001b[1m22s\u001b[0m 331ms/step - accuracy: 0.9978 - loss: 0.0068 - val_accuracy: 0.7810 - val_loss: 1.4035\n",
      "Epoch 92/100\n",
      "\u001b[1m65/65\u001b[0m \u001b[32m━━━━━━━━━━━━━━━━━━━━\u001b[0m\u001b[37m\u001b[0m \u001b[1m21s\u001b[0m 328ms/step - accuracy: 0.9983 - loss: 0.0039 - val_accuracy: 0.7984 - val_loss: 1.6131\n",
      "Epoch 93/100\n",
      "\u001b[1m65/65\u001b[0m \u001b[32m━━━━━━━━━━━━━━━━━━━━\u001b[0m\u001b[37m\u001b[0m \u001b[1m21s\u001b[0m 326ms/step - accuracy: 0.9994 - loss: 0.0027 - val_accuracy: 0.7791 - val_loss: 1.2203\n",
      "Epoch 94/100\n",
      "\u001b[1m65/65\u001b[0m \u001b[32m━━━━━━━━━━━━━━━━━━━━\u001b[0m\u001b[37m\u001b[0m \u001b[1m21s\u001b[0m 324ms/step - accuracy: 0.9970 - loss: 0.0099 - val_accuracy: 0.7733 - val_loss: 1.2227\n",
      "Epoch 95/100\n",
      "\u001b[1m65/65\u001b[0m \u001b[32m━━━━━━━━━━━━━━━━━━━━\u001b[0m\u001b[37m\u001b[0m \u001b[1m21s\u001b[0m 324ms/step - accuracy: 0.9968 - loss: 0.0091 - val_accuracy: 0.7888 - val_loss: 1.2371\n",
      "Epoch 96/100\n",
      "\u001b[1m65/65\u001b[0m \u001b[32m━━━━━━━━━━━━━━━━━━━━\u001b[0m\u001b[37m\u001b[0m \u001b[1m21s\u001b[0m 324ms/step - accuracy: 0.9978 - loss: 0.0300 - val_accuracy: 0.7849 - val_loss: 1.3966\n",
      "Epoch 97/100\n",
      "\u001b[1m65/65\u001b[0m \u001b[32m━━━━━━━━━━━━━━━━━━━━\u001b[0m\u001b[37m\u001b[0m \u001b[1m21s\u001b[0m 324ms/step - accuracy: 0.9975 - loss: 0.0102 - val_accuracy: 0.7713 - val_loss: 1.3795\n",
      "Epoch 98/100\n",
      "\u001b[1m65/65\u001b[0m \u001b[32m━━━━━━━━━━━━━━━━━━━━\u001b[0m\u001b[37m\u001b[0m \u001b[1m22s\u001b[0m 340ms/step - accuracy: 0.9976 - loss: 0.0072 - val_accuracy: 0.7829 - val_loss: 1.2885\n",
      "Epoch 99/100\n",
      "\u001b[1m65/65\u001b[0m \u001b[32m━━━━━━━━━━━━━━━━━━━━\u001b[0m\u001b[37m\u001b[0m \u001b[1m22s\u001b[0m 333ms/step - accuracy: 0.9997 - loss: 0.0020 - val_accuracy: 0.7733 - val_loss: 1.2252\n",
      "Epoch 100/100\n",
      "\u001b[1m65/65\u001b[0m \u001b[32m━━━━━━━━━━━━━━━━━━━━\u001b[0m\u001b[37m\u001b[0m \u001b[1m22s\u001b[0m 333ms/step - accuracy: 0.9980 - loss: 0.0115 - val_accuracy: 0.7791 - val_loss: 1.0046\n"
     ]
    }
   ],
   "source": [
    "# 모델 학습\n",
    "history = model.fit(\n",
    "    X_train, y_train,\n",
    "    validation_data=(X_val, y_val),\n",
    "    epochs=100,\n",
    "    batch_size=32\n",
    ")"
   ]
  },
  {
   "cell_type": "code",
   "execution_count": 11,
   "id": "c4aed41a-47d1-456a-928c-8b2f336d2671",
   "metadata": {},
   "outputs": [
    {
     "name": "stderr",
     "output_type": "stream",
     "text": [
      "WARNING:absl:You are saving your model as an HDF5 file via `model.save()` or `keras.saving.save_model(model)`. This file format is considered legacy. We recommend using instead the native Keras format, e.g. `model.save('my_model.keras')` or `keras.saving.save_model(model, 'my_model.keras')`. \n"
     ]
    },
    {
     "name": "stdout",
     "output_type": "stream",
     "text": [
      "Model saved!\n"
     ]
    }
   ],
   "source": [
    "# 학습 결과 저장\n",
    "model.save(\"eeg_cnn_model_mj.h5\")\n",
    "print(\"Model saved!\")"
   ]
  },
  {
   "cell_type": "code",
   "execution_count": 12,
   "id": "84a0f54f-02f2-45ab-a57a-4edd850a2407",
   "metadata": {},
   "outputs": [
    {
     "name": "stderr",
     "output_type": "stream",
     "text": [
      "WARNING:absl:Compiled the loaded model, but the compiled metrics have yet to be built. `model.compile_metrics` will be empty until you train or evaluate the model.\n"
     ]
    },
    {
     "name": "stdout",
     "output_type": "stream",
     "text": [
      "\u001b[1m17/17\u001b[0m \u001b[32m━━━━━━━━━━━━━━━━━━━━\u001b[0m\u001b[37m\u001b[0m \u001b[1m1s\u001b[0m 24ms/step - accuracy: 0.7615 - loss: 1.0206 \n",
      "Validation Loss: 1.0045523643493652, Validation Accuracy: 0.7790697813034058\n"
     ]
    }
   ],
   "source": [
    "# 모델 로드 및 평가\n",
    "model = tf.keras.models.load_model(\"eeg_cnn_model_mj.h5\")\n",
    "loss, accuracy = model.evaluate(X_val, y_val)\n",
    "print(f\"Validation Loss: {loss}, Validation Accuracy: {accuracy}\")\n"
   ]
  },
  {
   "cell_type": "code",
   "execution_count": 13,
   "id": "60dc03dc-c1f5-4180-9ba9-10374dd76344",
   "metadata": {},
   "outputs": [
    {
     "name": "stdout",
     "output_type": "stream",
     "text": [
      "\u001b[1m1/1\u001b[0m \u001b[32m━━━━━━━━━━━━━━━━━━━━\u001b[0m\u001b[37m\u001b[0m \u001b[1m0s\u001b[0m 297ms/step\n",
      "Prediction (0=negative, 1=positive): 0.048786599189043045\n"
     ]
    }
   ],
   "source": [
    "# 테스트 데이터 예측\n",
    "test_sample = X_val[0]  # 임의의 샘플\n",
    "test_sample = np.expand_dims(test_sample, axis=0)  # 배치 차원 추가\n",
    "prediction = model.predict(test_sample)\n",
    "\n",
    "# 결과 출력\n",
    "print(f\"Prediction (0=negative, 1=positive): {prediction[0][0]}\")"
   ]
  },
  {
   "cell_type": "code",
   "execution_count": null,
   "id": "f69e3521-6272-4cad-bd0d-98c0473162c0",
   "metadata": {},
   "outputs": [],
   "source": []
  }
 ],
 "metadata": {
  "kernelspec": {
   "display_name": "Python 3 (ipykernel)",
   "language": "python",
   "name": "python3"
  },
  "language_info": {
   "codemirror_mode": {
    "name": "ipython",
    "version": 3
   },
   "file_extension": ".py",
   "mimetype": "text/x-python",
   "name": "python",
   "nbconvert_exporter": "python",
   "pygments_lexer": "ipython3",
   "version": "3.12.2"
  }
 },
 "nbformat": 4,
 "nbformat_minor": 5
}
