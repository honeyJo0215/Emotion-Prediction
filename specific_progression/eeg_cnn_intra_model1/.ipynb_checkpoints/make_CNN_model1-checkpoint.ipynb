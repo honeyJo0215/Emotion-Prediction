{
 "cells": [
  {
   "cell_type": "code",
   "execution_count": 38,
   "id": "388267f8-f9e6-4694-86d7-b36fa6bf003d",
   "metadata": {},
   "outputs": [],
   "source": [
    "import numpy as np\n",
    "from sklearn.model_selection import LeaveOneOut\n",
    "from tensorflow.keras.models import Sequential\n",
    "from tensorflow.keras.layers import Conv2D, MaxPooling2D, Flatten, Dense, Dropout\n",
    "from tensorflow.keras.utils import to_categorical\n",
    "import tensorflow as tf\n",
    "import os"
   ]
  },
  {
   "cell_type": "code",
   "execution_count": 39,
   "id": "9cc31cf2-aebb-4929-bc0f-ebc97c00404c",
   "metadata": {},
   "outputs": [
    {
     "name": "stdout",
     "output_type": "stream",
     "text": [
      "GPU를 사용할 수 없습니다. TensorFlow 설치 및 환경을 확인하세요.\n"
     ]
    }
   ],
   "source": [
    "# TensorFlow 로그 설정\n",
    "os.environ['TF_CPP_MIN_LOG_LEVEL'] = '2'\n",
    "\n",
    "# GPU 설정 및 라이브러리 로드 확인\n",
    "def configure_gpu():\n",
    "    try:\n",
    "        gpus = tf.config.list_physical_devices('GPU')\n",
    "        if gpus:\n",
    "            for gpu in gpus:\n",
    "                tf.config.experimental.set_memory_growth(gpu, True)\n",
    "            print(\"GPU 설정 완료\")\n",
    "        else:\n",
    "            print(\"GPU를 사용할 수 없습니다. TensorFlow 설치 및 환경을 확인하세요.\")\n",
    "    except Exception as e:\n",
    "        print(f\"GPU 설정 중 오류 발생: {e}\")\n",
    "\n",
    "configure_gpu()"
   ]
  },
  {
   "cell_type": "code",
   "execution_count": 40,
   "id": "1e166b2e-fa62-4a69-904b-c54183a79147",
   "metadata": {},
   "outputs": [],
   "source": [
    "# 데이터 경로 설정\n",
    "data_dir = \"/home/bcml1/sigenv/eeg_band_split\"  # 실제 데이터 경로로 변경\n"
   ]
  },
  {
   "cell_type": "code",
   "execution_count": 41,
   "id": "17c913dd-96b3-4c80-b197-9a5e3e6481a6",
   "metadata": {},
   "outputs": [],
   "source": [
    "# Load data function - assumes EEG data is preprocessed and split by participant\n",
    "def load_data():\n",
    "    # Placeholder function to load EEG data\n",
    "    # X should be a 4D array: [samples, channels, height, width]\n",
    "    # y should be a 1D array: [samples]\n",
    "    # Replace this with actual data loading logic\n",
    "    X = np.load('eeg_data.npy')\n",
    "    y = np.load('eeg_labels.npy')\n",
    "    participants = np.load('participant_ids.npy')  # Array indicating participant ID for each sample\n",
    "    return X, y, participants"
   ]
  },
  {
   "cell_type": "code",
   "execution_count": 42,
   "id": "30deda39-e89c-4910-a5b4-2aebe132cd6b",
   "metadata": {},
   "outputs": [],
   "source": [
    "# Define CNN model structure\n",
    "def create_cnn_model(input_shape, num_classes):\n",
    "    model = Sequential([\n",
    "        Conv2D(32, (3, 3), activation='relu', input_shape=input_shape),\n",
    "        MaxPooling2D((2, 2)),\n",
    "        Dropout(0.25),\n",
    "        Conv2D(64, (3, 3), activation='relu'),\n",
    "        MaxPooling2D((2, 2)),\n",
    "        Dropout(0.25),\n",
    "        Flatten(),\n",
    "        Dense(128, activation='relu'),\n",
    "        Dropout(0.5),\n",
    "        Dense(num_classes, activation='softmax')\n",
    "    ])\n",
    "    model.compile(optimizer='adam', loss='categorical_crossentropy', metrics=['accuracy'])\n",
    "    return model\n"
   ]
  },
  {
   "cell_type": "code",
   "execution_count": 44,
   "id": "8d42aabc-bcd6-42f0-a2c4-0ff94faac24b",
   "metadata": {},
   "outputs": [
    {
     "name": "stdout",
     "output_type": "stream",
     "text": [
      "Epoch 1/10\n",
      "\u001b[1m65/65\u001b[0m \u001b[32m━━━━━━━━━━━━━━━━━━━━\u001b[0m\u001b[37m\u001b[0m \u001b[1m41s\u001b[0m 527ms/step - accuracy: 0.4844 - loss: 0.8907 - val_accuracy: 0.4496 - val_loss: 0.6946\n",
      "Epoch 2/10\n",
      "\u001b[1m65/65\u001b[0m \u001b[32m━━━━━━━━━━━━━━━━━━━━\u001b[0m\u001b[37m\u001b[0m \u001b[1m41s\u001b[0m 635ms/step - accuracy: 0.5789 - loss: 0.6904 - val_accuracy: 0.4845 - val_loss: 0.6916\n",
      "Epoch 3/10\n",
      "\u001b[1m65/65\u001b[0m \u001b[32m━━━━━━━━━━━━━━━━━━━━\u001b[0m\u001b[37m\u001b[0m \u001b[1m74s\u001b[0m 516ms/step - accuracy: 0.6171 - loss: 0.6537 - val_accuracy: 0.5601 - val_loss: 0.6938\n",
      "Epoch 4/10\n",
      "\u001b[1m65/65\u001b[0m \u001b[32m━━━━━━━━━━━━━━━━━━━━\u001b[0m\u001b[37m\u001b[0m \u001b[1m40s\u001b[0m 615ms/step - accuracy: 0.7149 - loss: 0.5709 - val_accuracy: 0.6434 - val_loss: 0.6302\n",
      "Epoch 5/10\n",
      "\u001b[1m65/65\u001b[0m \u001b[32m━━━━━━━━━━━━━━━━━━━━\u001b[0m\u001b[37m\u001b[0m \u001b[1m42s\u001b[0m 629ms/step - accuracy: 0.7617 - loss: 0.5072 - val_accuracy: 0.6899 - val_loss: 0.6048\n",
      "Epoch 6/10\n",
      "\u001b[1m65/65\u001b[0m \u001b[32m━━━━━━━━━━━━━━━━━━━━\u001b[0m\u001b[37m\u001b[0m \u001b[1m34s\u001b[0m 524ms/step - accuracy: 0.8268 - loss: 0.4022 - val_accuracy: 0.7287 - val_loss: 0.5246\n",
      "Epoch 7/10\n",
      "\u001b[1m65/65\u001b[0m \u001b[32m━━━━━━━━━━━━━━━━━━━━\u001b[0m\u001b[37m\u001b[0m \u001b[1m32s\u001b[0m 493ms/step - accuracy: 0.8853 - loss: 0.2733 - val_accuracy: 0.7519 - val_loss: 0.5489\n",
      "Epoch 8/10\n",
      "\u001b[1m65/65\u001b[0m \u001b[32m━━━━━━━━━━━━━━━━━━━━\u001b[0m\u001b[37m\u001b[0m \u001b[1m41s\u001b[0m 641ms/step - accuracy: 0.9213 - loss: 0.1944 - val_accuracy: 0.7713 - val_loss: 0.5653\n",
      "Epoch 9/10\n",
      "\u001b[1m65/65\u001b[0m \u001b[32m━━━━━━━━━━━━━━━━━━━━\u001b[0m\u001b[37m\u001b[0m \u001b[1m33s\u001b[0m 511ms/step - accuracy: 0.9550 - loss: 0.1268 - val_accuracy: 0.7636 - val_loss: 0.5786\n",
      "Epoch 10/10\n",
      "\u001b[1m65/65\u001b[0m \u001b[32m━━━━━━━━━━━━━━━━━━━━\u001b[0m\u001b[37m\u001b[0m \u001b[1m38s\u001b[0m 593ms/step - accuracy: 0.9551 - loss: 0.1303 - val_accuracy: 0.8004 - val_loss: 0.6379\n"
     ]
    },
    {
     "data": {
      "text/plain": [
       "<keras.src.callbacks.history.History at 0x7fdbfc797b30>"
      ]
     },
     "execution_count": 44,
     "metadata": {},
     "output_type": "execute_result"
    }
   ],
   "source": [
    "# Main script\n",
    "if __name__ == \"__main__\":\n",
    "    X, y, participants = load_data()\n",
    "    \n",
    "    num_classes = len(np.unique(y))\n",
    "    input_shape = X.shape[1:]  # Assuming data is already reshaped appropriately\n",
    "    y_categorical = to_categorical(y, num_classes=num_classes)\n",
    "\n",
    "    loo = LeaveOneOut()\n",
    "    accuracy_scores = []\n",
    "\n",
    "    for train_index, test_index in loo.split(np.unique(participants)):\n",
    "        train_participants = np.unique(participants)[train_index]\n",
    "        test_participant = np.unique(participants)[test_index][0]\n",
    "\n",
    "        # Split data by participants\n",
    "        train_mask = np.isin(participants, train_participants)\n",
    "        test_mask = participants == test_participant\n",
    "\n",
    "        X_train, X_test = X[train_mask], X[test_mask]\n",
    "        y_train, y_test = y_categorical[train_mask], y_categorical[test_mask]\n",
    "\n",
    "        # Create and train model\n",
    "        model = create_cnn_model(input_shape, num_classes)\n",
    "        model.fit(X_train, y_train, epochs=10, batch_size=32, verbose=1)\n",
    "\n",
    "        # Evaluate model\n",
    "        test_loss, test_accuracy = model.evaluate(X_test, y_test, verbose=0)\n",
    "        accuracy_scores.append(test_accuracy)\n",
    "\n",
    "        print(f\"Test participant: {test_participant}, Test accuracy: {test_accuracy:.4f}\")\n",
    "\n",
    "    print(f\"Mean accuracy across participants: {np.mean(accuracy_scores):.4f}\")"
   ]
  },
  {
   "cell_type": "code",
   "execution_count": 45,
   "id": "55dc4391-4f50-43fd-b775-668e08ab5d3e",
   "metadata": {},
   "outputs": [
    {
     "name": "stderr",
     "output_type": "stream",
     "text": [
      "WARNING:absl:You are saving your model as an HDF5 file via `model.save()` or `keras.saving.save_model(model)`. This file format is considered legacy. We recommend using instead the native Keras format, e.g. `model.save('my_model.keras')` or `keras.saving.save_model(model, 'my_model.keras')`. \n"
     ]
    },
    {
     "name": "stdout",
     "output_type": "stream",
     "text": [
      "Model saved!\n"
     ]
    }
   ],
   "source": [
    "# 학습 결과 저장\n",
    "model.save(\"eeg_cnn_model_mj.h5\")\n",
    "print(\"Model saved!\")"
   ]
  },
  {
   "cell_type": "code",
   "execution_count": 46,
   "id": "bebe4ec7-953c-49b6-af5b-5466ac56f88f",
   "metadata": {},
   "outputs": [
    {
     "name": "stderr",
     "output_type": "stream",
     "text": [
      "WARNING:absl:Compiled the loaded model, but the compiled metrics have yet to be built. `model.compile_metrics` will be empty until you train or evaluate the model.\n"
     ]
    },
    {
     "name": "stdout",
     "output_type": "stream",
     "text": [
      "Test Loss: 0.6379, Test Accuracy: 0.8004\n"
     ]
    }
   ],
   "source": [
    " # 결과 평가\n",
    "model = tf.keras.models.load_model(\"eeg_cnn_model_mj.h5\")\n",
    "loss, accuracy = model.evaluate(X_test, y_test, verbose=0)\n",
    "print(f\"Test Loss: {loss:.4f}, Test Accuracy: {accuracy:.4f}\")"
   ]
  },
  {
   "cell_type": "code",
   "execution_count": null,
   "id": "4d1575d6-c69b-4de6-ab9f-1dc9b470ba7c",
   "metadata": {},
   "outputs": [],
   "source": [
    "# 테스트 데이터 예측\n",
    "test_sample = X_test[0]  # 임의의 샘플\n",
    "test_sample = np.expand_dims(test_sample, axis=0)  # 배치 차원 추가\n",
    "prediction = model.predict(test_sample)\n",
    "\n",
    "\n",
    "#테스트 데이터로 코드를 예측하는 부분 구현 필요\n",
    "\n",
    "# 결과 출력\n",
    "print(f\"Prediction (0=negative, 1=positive): {prediction[0][0]}\")"
   ]
  },
  {
   "cell_type": "code",
   "execution_count": null,
   "id": "edf2f569-8aba-4b30-992c-f0bcafaf9767",
   "metadata": {},
   "outputs": [],
   "source": []
  }
 ],
 "metadata": {
  "kernelspec": {
   "display_name": "Python 3 (ipykernel)",
   "language": "python",
   "name": "python3"
  },
  "language_info": {
   "codemirror_mode": {
    "name": "ipython",
    "version": 3
   },
   "file_extension": ".py",
   "mimetype": "text/x-python",
   "name": "python",
   "nbconvert_exporter": "python",
   "pygments_lexer": "ipython3",
   "version": "3.12.2"
  }
 },
 "nbformat": 4,
 "nbformat_minor": 5
}
