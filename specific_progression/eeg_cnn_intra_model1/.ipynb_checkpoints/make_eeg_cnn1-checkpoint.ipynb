{
 "cells": [
  {
   "cell_type": "code",
   "execution_count": 13,
   "id": "25e1ee81-f430-4033-b557-fdcd4104f79c",
   "metadata": {},
   "outputs": [],
   "source": [
    "import os\n",
    "import numpy as np\n",
    "import tensorflow as tf\n",
    "# TensorFlow 로그 레벨 설정\n",
    "os.environ['TF_CPP_MIN_LOG_LEVEL'] = '2'\n",
    "\n",
    "# GPU 설정\n",
    "gpus = tf.config.experimental.list_physical_devices('GPU')\n",
    "if gpus:\n",
    "    try:\n",
    "        for gpu in gpus:\n",
    "            tf.config.experimental.set_memory_growth(gpu, True)  # 메모리 동적 할당\n",
    "            tf.config.experimental.set_virtual_device_configuration(\n",
    "                gpu,\n",
    "                [tf.config.experimental.VirtualDeviceConfiguration(memory_limit=4096)]  # 메모리 제한\n",
    "            )\n",
    "    except RuntimeError as e:\n",
    "        print(e)\n",
    "from tensorflow.keras.models import Sequential\n",
    "from tensorflow.keras.layers import Input,Conv1D, MaxPooling1D, Flatten, Dense, Dropout\n",
    "from sklearn.model_selection import train_test_split\n",
    "from sklearn.preprocessing import LabelEncoder\n"
   ]
  },
  {
   "cell_type": "code",
   "execution_count": 14,
   "id": "eb2a4caa-7516-40a0-94aa-b3e07f8a0e30",
   "metadata": {},
   "outputs": [],
   "source": [
    "# 데이터 경로\n",
    "data_dir = \"/home/bcml1/sigenv/eeg_band_split\" # npy 파일이 저장된 경로\n",
    "\n",
    "# 데이터 및 라벨 로드 함수\n",
    "def load_data(data_dir):\n",
    "    data = []\n",
    "    labels = []\n",
    "    for file_name in sorted(os.listdir(data_dir)):\n",
    "        if file_name.endswith(\"_bands.npy\"):\n",
    "            # 파일 경로\n",
    "            file_path = os.path.join(data_dir, file_name)\n",
    "\n",
    "            # 주파수 대역 데이터 로드\n",
    "            try:\n",
    "                band_data = np.load(file_path)  # (bands, samples, channels)\n",
    "                alpha_band = band_data[1]  # 예: Alpha band 선택\n",
    "            except Exception as e:\n",
    "                print(f\"Error loading {file_name}: {e}\")\n",
    "                continue\n",
    "\n",
    "            # 파일 이름에서 라벨 추출\n",
    "            label = \"positive\" if \"positive\" in file_name else \"negative\"\n",
    "\n",
    "            # 데이터 및 라벨 추가\n",
    "            for ch_idx in range(alpha_band.shape[1]):  # 채널별로 사용\n",
    "                data.append(alpha_band[:, ch_idx])  # 채널 데이터 추가\n",
    "                labels.append(label)\n",
    "\n",
    "    return np.array(data), np.array(labels)\n"
   ]
  },
  {
   "cell_type": "code",
   "execution_count": 15,
   "id": "4510e06a-9ed8-4834-915d-92fd5e102846",
   "metadata": {},
   "outputs": [],
   "source": [
    "# Conv1D 기반 모델 정의\n",
    "# cnn 모델을 구축하는 코드\n",
    "def build_cnn_model(input_shape):\n",
    "    model = Sequential([\n",
    "        Input(shape=input_shape),\n",
    "        # Convolutional Layer 1\n",
    "        Conv1D(32, kernel_size=3, activation='relu', input_shape=input_shape),\n",
    "        MaxPooling1D(pool_size=2),\n",
    "        Dropout(0.3),\n",
    "\n",
    "        # Convolutional Layer 2\n",
    "        Conv1D(64, kernel_size=3, activation='relu'),\n",
    "        MaxPooling1D(pool_size=2),\n",
    "        Dropout(0.3),\n",
    "\n",
    "        # Convolutional Layer 3\n",
    "        Conv1D(128, kernel_size=3, activation='relu'),\n",
    "        MaxPooling1D(pool_size=2),\n",
    "        Dropout(0.3),\n",
    "\n",
    "        # Flatten Layer\n",
    "        Flatten(),\n",
    "\n",
    "        # Fully Connected Dense Layers\n",
    "        Dense(256, activation='relu'),\n",
    "        Dropout(0.4),\n",
    "        \n",
    "        Dense(128, activation='relu'),\n",
    "        Dropout(0.4),\n",
    "\n",
    "        Dense(64, activation='relu'),\n",
    "        Dropout(0.3),\n",
    "\n",
    "        # Output Layer\n",
    "        Dense(1, activation='sigmoid')  # 이진 분류\n",
    "    ])\n",
    "    return model"
   ]
  },
  {
   "cell_type": "code",
   "execution_count": 16,
   "id": "0690782c-822e-4fad-ad97-0eada62cfb22",
   "metadata": {},
   "outputs": [
    {
     "name": "stdout",
     "output_type": "stream",
     "text": [
      "Data shape: (2576, 5120)\n",
      "Labels shape: (2576,)\n"
     ]
    }
   ],
   "source": [
    "# 데이터 로드\n",
    "X, y = load_data(data_dir)\n",
    "print(\"Data shape:\", X.shape)  # (samples, time)\n",
    "print(\"Labels shape:\", y.shape)"
   ]
  },
  {
   "cell_type": "code",
   "execution_count": 17,
   "id": "4f9fa6c6-05dd-42c5-8435-a7a29ae61cf9",
   "metadata": {},
   "outputs": [
    {
     "name": "stdout",
     "output_type": "stream",
     "text": [
      "Encoded labels: [0 0 0 0 0]\n"
     ]
    }
   ],
   "source": [
    "# 라벨 인코딩 (0: negative, 1: positive)\n",
    "label_encoder = LabelEncoder()\n",
    "y = label_encoder.fit_transform(y)\n",
    "print(\"Encoded labels:\", y[:5])\n"
   ]
  },
  {
   "cell_type": "code",
   "execution_count": 18,
   "id": "2f92ab22-4652-4241-97d0-99c2fd983a6f",
   "metadata": {},
   "outputs": [],
   "source": [
    "# 데이터 정규화\n",
    "X = X / np.max(np.abs(X), axis=1, keepdims=True)  # 정규화\n"
   ]
  },
  {
   "cell_type": "code",
   "execution_count": 19,
   "id": "22338025-6bfe-441a-b987-fbff537058a6",
   "metadata": {},
   "outputs": [],
   "source": [
    "# 데이터 차원 확장 (CNN 입력으로 사용)\n",
    "X = np.expand_dims(X, axis=-1)  # (samples, time, 1)"
   ]
  },
  {
   "cell_type": "code",
   "execution_count": 20,
   "id": "0638a135-e155-46e1-8ef5-c573fa39038f",
   "metadata": {},
   "outputs": [
    {
     "name": "stdout",
     "output_type": "stream",
     "text": [
      "Training data shape: (2060, 5120, 1)\n",
      "Validation data shape: (516, 5120, 1)\n"
     ]
    }
   ],
   "source": [
    "# 학습/검증 데이터 분리\n",
    "X_train, X_val, y_train, y_val = train_test_split(X, y, test_size=0.2, random_state=42)\n",
    "print(\"Training data shape:\", X_train.shape)\n",
    "print(\"Validation data shape:\", X_val.shape)"
   ]
  },
  {
   "cell_type": "code",
   "execution_count": 21,
   "id": "63fc2928-ccc6-46ea-9e7f-e6a8d858c335",
   "metadata": {},
   "outputs": [
    {
     "name": "stderr",
     "output_type": "stream",
     "text": [
      "/home/bcml1/sigenv/lib/python3.12/site-packages/keras/src/layers/convolutional/base_conv.py:107: UserWarning: Do not pass an `input_shape`/`input_dim` argument to a layer. When using Sequential models, prefer using an `Input(shape)` object as the first layer in the model instead.\n",
      "  super().__init__(activity_regularizer=activity_regularizer, **kwargs)\n"
     ]
    }
   ],
   "source": [
    "# 모델 생성\n",
    "input_shape = (X_train.shape[1], X_train.shape[2])  # (time, 1)\n",
    "model = build_cnn_model(input_shape)\n",
    "model.compile(optimizer='adam', loss='binary_crossentropy', metrics=['accuracy'])"
   ]
  },
  {
   "cell_type": "code",
   "execution_count": 22,
   "id": "812eac9e-2d3d-45ce-a111-66206fbab993",
   "metadata": {},
   "outputs": [
    {
     "name": "stdout",
     "output_type": "stream",
     "text": [
      "Epoch 1/100\n",
      "\u001b[1m65/65\u001b[0m \u001b[32m━━━━━━━━━━━━━━━━━━━━\u001b[0m\u001b[37m\u001b[0m \u001b[1m22s\u001b[0m 319ms/step - accuracy: 0.4893 - loss: 0.7216 - val_accuracy: 0.5504 - val_loss: 0.6930\n",
      "Epoch 2/100\n",
      "\u001b[1m65/65\u001b[0m \u001b[32m━━━━━━━━━━━━━━━━━━━━\u001b[0m\u001b[37m\u001b[0m \u001b[1m21s\u001b[0m 316ms/step - accuracy: 0.5019 - loss: 0.6931 - val_accuracy: 0.4457 - val_loss: 0.6936\n",
      "Epoch 3/100\n",
      "\u001b[1m65/65\u001b[0m \u001b[32m━━━━━━━━━━━━━━━━━━━━\u001b[0m\u001b[37m\u001b[0m \u001b[1m20s\u001b[0m 313ms/step - accuracy: 0.5418 - loss: 0.6910 - val_accuracy: 0.5194 - val_loss: 0.6910\n",
      "Epoch 4/100\n",
      "\u001b[1m65/65\u001b[0m \u001b[32m━━━━━━━━━━━━━━━━━━━━\u001b[0m\u001b[37m\u001b[0m \u001b[1m20s\u001b[0m 311ms/step - accuracy: 0.6240 - loss: 0.6661 - val_accuracy: 0.5155 - val_loss: 0.6895\n",
      "Epoch 5/100\n",
      "\u001b[1m65/65\u001b[0m \u001b[32m━━━━━━━━━━━━━━━━━━━━\u001b[0m\u001b[37m\u001b[0m \u001b[1m20s\u001b[0m 310ms/step - accuracy: 0.6876 - loss: 0.6054 - val_accuracy: 0.6473 - val_loss: 0.6515\n",
      "Epoch 6/100\n",
      "\u001b[1m65/65\u001b[0m \u001b[32m━━━━━━━━━━━━━━━━━━━━\u001b[0m\u001b[37m\u001b[0m \u001b[1m20s\u001b[0m 315ms/step - accuracy: 0.7528 - loss: 0.5221 - val_accuracy: 0.6589 - val_loss: 0.6155\n",
      "Epoch 7/100\n",
      "\u001b[1m65/65\u001b[0m \u001b[32m━━━━━━━━━━━━━━━━━━━━\u001b[0m\u001b[37m\u001b[0m \u001b[1m20s\u001b[0m 313ms/step - accuracy: 0.8220 - loss: 0.4142 - val_accuracy: 0.7093 - val_loss: 0.5771\n",
      "Epoch 8/100\n",
      "\u001b[1m65/65\u001b[0m \u001b[32m━━━━━━━━━━━━━━━━━━━━\u001b[0m\u001b[37m\u001b[0m \u001b[1m20s\u001b[0m 314ms/step - accuracy: 0.8860 - loss: 0.2873 - val_accuracy: 0.7229 - val_loss: 0.5684\n",
      "Epoch 9/100\n",
      "\u001b[1m65/65\u001b[0m \u001b[32m━━━━━━━━━━━━━━━━━━━━\u001b[0m\u001b[37m\u001b[0m \u001b[1m21s\u001b[0m 317ms/step - accuracy: 0.9044 - loss: 0.2362 - val_accuracy: 0.7384 - val_loss: 0.6677\n",
      "Epoch 10/100\n",
      "\u001b[1m65/65\u001b[0m \u001b[32m━━━━━━━━━━━━━━━━━━━━\u001b[0m\u001b[37m\u001b[0m \u001b[1m26s\u001b[0m 408ms/step - accuracy: 0.9464 - loss: 0.1506 - val_accuracy: 0.7636 - val_loss: 0.7097\n",
      "Epoch 11/100\n",
      "\u001b[1m65/65\u001b[0m \u001b[32m━━━━━━━━━━━━━━━━━━━━\u001b[0m\u001b[37m\u001b[0m \u001b[1m40s\u001b[0m 614ms/step - accuracy: 0.9604 - loss: 0.0982 - val_accuracy: 0.7655 - val_loss: 0.8451\n",
      "Epoch 12/100\n",
      "\u001b[1m65/65\u001b[0m \u001b[32m━━━━━━━━━━━━━━━━━━━━\u001b[0m\u001b[37m\u001b[0m \u001b[1m40s\u001b[0m 614ms/step - accuracy: 0.9593 - loss: 0.1219 - val_accuracy: 0.7616 - val_loss: 0.6508\n",
      "Epoch 13/100\n",
      "\u001b[1m65/65\u001b[0m \u001b[32m━━━━━━━━━━━━━━━━━━━━\u001b[0m\u001b[37m\u001b[0m \u001b[1m22s\u001b[0m 331ms/step - accuracy: 0.9681 - loss: 0.0933 - val_accuracy: 0.7500 - val_loss: 0.6535\n",
      "Epoch 14/100\n",
      "\u001b[1m65/65\u001b[0m \u001b[32m━━━━━━━━━━━━━━━━━━━━\u001b[0m\u001b[37m\u001b[0m \u001b[1m24s\u001b[0m 366ms/step - accuracy: 0.9847 - loss: 0.0502 - val_accuracy: 0.7636 - val_loss: 0.9039\n",
      "Epoch 15/100\n",
      "\u001b[1m65/65\u001b[0m \u001b[32m━━━━━━━━━━━━━━━━━━━━\u001b[0m\u001b[37m\u001b[0m \u001b[1m57s\u001b[0m 612ms/step - accuracy: 0.9764 - loss: 0.0520 - val_accuracy: 0.7578 - val_loss: 0.7863\n",
      "Epoch 16/100\n",
      "\u001b[1m65/65\u001b[0m \u001b[32m━━━━━━━━━━━━━━━━━━━━\u001b[0m\u001b[37m\u001b[0m \u001b[1m42s\u001b[0m 639ms/step - accuracy: 0.9874 - loss: 0.0462 - val_accuracy: 0.7597 - val_loss: 0.7827\n",
      "Epoch 17/100\n",
      "\u001b[1m65/65\u001b[0m \u001b[32m━━━━━━━━━━━━━━━━━━━━\u001b[0m\u001b[37m\u001b[0m \u001b[1m30s\u001b[0m 453ms/step - accuracy: 0.9837 - loss: 0.0464 - val_accuracy: 0.7674 - val_loss: 0.8821\n",
      "Epoch 18/100\n",
      "\u001b[1m65/65\u001b[0m \u001b[32m━━━━━━━━━━━━━━━━━━━━\u001b[0m\u001b[37m\u001b[0m \u001b[1m20s\u001b[0m 310ms/step - accuracy: 0.9759 - loss: 0.0630 - val_accuracy: 0.7616 - val_loss: 0.8854\n",
      "Epoch 19/100\n",
      "\u001b[1m65/65\u001b[0m \u001b[32m━━━━━━━━━━━━━━━━━━━━\u001b[0m\u001b[37m\u001b[0m \u001b[1m36s\u001b[0m 563ms/step - accuracy: 0.9795 - loss: 0.0493 - val_accuracy: 0.7558 - val_loss: 1.0384\n",
      "Epoch 20/100\n",
      "\u001b[1m65/65\u001b[0m \u001b[32m━━━━━━━━━━━━━━━━━━━━\u001b[0m\u001b[37m\u001b[0m \u001b[1m28s\u001b[0m 421ms/step - accuracy: 0.9862 - loss: 0.0337 - val_accuracy: 0.7481 - val_loss: 1.0062\n",
      "Epoch 21/100\n",
      "\u001b[1m65/65\u001b[0m \u001b[32m━━━━━━━━━━━━━━━━━━━━\u001b[0m\u001b[37m\u001b[0m \u001b[1m20s\u001b[0m 310ms/step - accuracy: 0.9870 - loss: 0.0378 - val_accuracy: 0.7694 - val_loss: 1.0078\n",
      "Epoch 22/100\n",
      "\u001b[1m65/65\u001b[0m \u001b[32m━━━━━━━━━━━━━━━━━━━━\u001b[0m\u001b[37m\u001b[0m \u001b[1m21s\u001b[0m 321ms/step - accuracy: 0.9816 - loss: 0.0501 - val_accuracy: 0.7771 - val_loss: 0.9180\n",
      "Epoch 23/100\n",
      "\u001b[1m65/65\u001b[0m \u001b[32m━━━━━━━━━━━━━━━━━━━━\u001b[0m\u001b[37m\u001b[0m \u001b[1m21s\u001b[0m 320ms/step - accuracy: 0.9858 - loss: 0.0414 - val_accuracy: 0.7810 - val_loss: 0.8350\n",
      "Epoch 24/100\n",
      "\u001b[1m65/65\u001b[0m \u001b[32m━━━━━━━━━━━━━━━━━━━━\u001b[0m\u001b[37m\u001b[0m \u001b[1m21s\u001b[0m 317ms/step - accuracy: 0.9910 - loss: 0.0459 - val_accuracy: 0.7752 - val_loss: 0.8422\n",
      "Epoch 25/100\n",
      "\u001b[1m65/65\u001b[0m \u001b[32m━━━━━━━━━━━━━━━━━━━━\u001b[0m\u001b[37m\u001b[0m \u001b[1m21s\u001b[0m 316ms/step - accuracy: 0.9910 - loss: 0.0402 - val_accuracy: 0.7694 - val_loss: 0.8777\n",
      "Epoch 26/100\n",
      "\u001b[1m65/65\u001b[0m \u001b[32m━━━━━━━━━━━━━━━━━━━━\u001b[0m\u001b[37m\u001b[0m \u001b[1m21s\u001b[0m 315ms/step - accuracy: 0.9912 - loss: 0.0243 - val_accuracy: 0.7636 - val_loss: 0.8784\n",
      "Epoch 27/100\n",
      "\u001b[1m65/65\u001b[0m \u001b[32m━━━━━━━━━━━━━━━━━━━━\u001b[0m\u001b[37m\u001b[0m \u001b[1m20s\u001b[0m 314ms/step - accuracy: 0.9965 - loss: 0.0150 - val_accuracy: 0.7519 - val_loss: 1.1967\n",
      "Epoch 28/100\n",
      "\u001b[1m65/65\u001b[0m \u001b[32m━━━━━━━━━━━━━━━━━━━━\u001b[0m\u001b[37m\u001b[0m \u001b[1m20s\u001b[0m 315ms/step - accuracy: 0.9920 - loss: 0.0223 - val_accuracy: 0.7558 - val_loss: 1.1327\n",
      "Epoch 29/100\n",
      "\u001b[1m65/65\u001b[0m \u001b[32m━━━━━━━━━━━━━━━━━━━━\u001b[0m\u001b[37m\u001b[0m \u001b[1m20s\u001b[0m 315ms/step - accuracy: 0.9955 - loss: 0.0169 - val_accuracy: 0.7481 - val_loss: 1.0253\n",
      "Epoch 30/100\n",
      "\u001b[1m65/65\u001b[0m \u001b[32m━━━━━━━━━━━━━━━━━━━━\u001b[0m\u001b[37m\u001b[0m \u001b[1m20s\u001b[0m 315ms/step - accuracy: 0.9947 - loss: 0.0180 - val_accuracy: 0.7752 - val_loss: 0.9574\n",
      "Epoch 31/100\n",
      "\u001b[1m65/65\u001b[0m \u001b[32m━━━━━━━━━━━━━━━━━━━━\u001b[0m\u001b[37m\u001b[0m \u001b[1m20s\u001b[0m 315ms/step - accuracy: 0.9946 - loss: 0.0148 - val_accuracy: 0.7578 - val_loss: 1.0897\n",
      "Epoch 32/100\n",
      "\u001b[1m65/65\u001b[0m \u001b[32m━━━━━━━━━━━━━━━━━━━━\u001b[0m\u001b[37m\u001b[0m \u001b[1m20s\u001b[0m 315ms/step - accuracy: 0.9922 - loss: 0.0248 - val_accuracy: 0.7674 - val_loss: 1.0011\n",
      "Epoch 33/100\n",
      "\u001b[1m65/65\u001b[0m \u001b[32m━━━━━━━━━━━━━━━━━━━━\u001b[0m\u001b[37m\u001b[0m \u001b[1m25s\u001b[0m 382ms/step - accuracy: 0.9968 - loss: 0.0086 - val_accuracy: 0.7519 - val_loss: 1.0589\n",
      "Epoch 34/100\n",
      "\u001b[1m65/65\u001b[0m \u001b[32m━━━━━━━━━━━━━━━━━━━━\u001b[0m\u001b[37m\u001b[0m \u001b[1m40s\u001b[0m 611ms/step - accuracy: 0.9953 - loss: 0.0146 - val_accuracy: 0.7616 - val_loss: 1.2817\n",
      "Epoch 35/100\n",
      "\u001b[1m65/65\u001b[0m \u001b[32m━━━━━━━━━━━━━━━━━━━━\u001b[0m\u001b[37m\u001b[0m \u001b[1m33s\u001b[0m 509ms/step - accuracy: 0.9923 - loss: 0.0198 - val_accuracy: 0.7733 - val_loss: 1.1991\n",
      "Epoch 36/100\n",
      "\u001b[1m65/65\u001b[0m \u001b[32m━━━━━━━━━━━━━━━━━━━━\u001b[0m\u001b[37m\u001b[0m \u001b[1m57s\u001b[0m 745ms/step - accuracy: 0.9929 - loss: 0.0181 - val_accuracy: 0.7713 - val_loss: 1.1083\n",
      "Epoch 37/100\n",
      "\u001b[1m65/65\u001b[0m \u001b[32m━━━━━━━━━━━━━━━━━━━━\u001b[0m\u001b[37m\u001b[0m \u001b[1m61s\u001b[0m 948ms/step - accuracy: 0.9975 - loss: 0.0100 - val_accuracy: 0.7713 - val_loss: 0.9967\n",
      "Epoch 38/100\n",
      "\u001b[1m65/65\u001b[0m \u001b[32m━━━━━━━━━━━━━━━━━━━━\u001b[0m\u001b[37m\u001b[0m \u001b[1m57s\u001b[0m 879ms/step - accuracy: 0.9959 - loss: 0.0165 - val_accuracy: 0.7674 - val_loss: 0.9338\n",
      "Epoch 39/100\n",
      "\u001b[1m65/65\u001b[0m \u001b[32m━━━━━━━━━━━━━━━━━━━━\u001b[0m\u001b[37m\u001b[0m \u001b[1m86s\u001b[0m 943ms/step - accuracy: 0.9942 - loss: 0.0190 - val_accuracy: 0.7791 - val_loss: 1.2384\n",
      "Epoch 40/100\n",
      "\u001b[1m65/65\u001b[0m \u001b[32m━━━━━━━━━━━━━━━━━━━━\u001b[0m\u001b[37m\u001b[0m \u001b[1m42s\u001b[0m 643ms/step - accuracy: 0.9946 - loss: 0.0215 - val_accuracy: 0.7674 - val_loss: 1.1417\n",
      "Epoch 41/100\n",
      "\u001b[1m65/65\u001b[0m \u001b[32m━━━━━━━━━━━━━━━━━━━━\u001b[0m\u001b[37m\u001b[0m \u001b[1m25s\u001b[0m 380ms/step - accuracy: 0.9940 - loss: 0.0172 - val_accuracy: 0.7519 - val_loss: 1.0388\n",
      "Epoch 42/100\n",
      "\u001b[1m65/65\u001b[0m \u001b[32m━━━━━━━━━━━━━━━━━━━━\u001b[0m\u001b[37m\u001b[0m \u001b[1m28s\u001b[0m 432ms/step - accuracy: 0.9898 - loss: 0.0316 - val_accuracy: 0.7733 - val_loss: 0.7720\n",
      "Epoch 43/100\n",
      "\u001b[1m65/65\u001b[0m \u001b[32m━━━━━━━━━━━━━━━━━━━━\u001b[0m\u001b[37m\u001b[0m \u001b[1m43s\u001b[0m 663ms/step - accuracy: 0.9971 - loss: 0.0126 - val_accuracy: 0.7636 - val_loss: 0.8567\n",
      "Epoch 44/100\n",
      "\u001b[1m65/65\u001b[0m \u001b[32m━━━━━━━━━━━━━━━━━━━━\u001b[0m\u001b[37m\u001b[0m \u001b[1m42s\u001b[0m 646ms/step - accuracy: 0.9962 - loss: 0.0097 - val_accuracy: 0.7616 - val_loss: 1.3694\n",
      "Epoch 45/100\n",
      "\u001b[1m65/65\u001b[0m \u001b[32m━━━━━━━━━━━━━━━━━━━━\u001b[0m\u001b[37m\u001b[0m \u001b[1m40s\u001b[0m 616ms/step - accuracy: 0.9945 - loss: 0.0134 - val_accuracy: 0.7578 - val_loss: 0.9640\n",
      "Epoch 46/100\n",
      "\u001b[1m65/65\u001b[0m \u001b[32m━━━━━━━━━━━━━━━━━━━━\u001b[0m\u001b[37m\u001b[0m \u001b[1m42s\u001b[0m 644ms/step - accuracy: 0.9953 - loss: 0.0137 - val_accuracy: 0.7655 - val_loss: 1.0001\n",
      "Epoch 47/100\n",
      "\u001b[1m65/65\u001b[0m \u001b[32m━━━━━━━━━━━━━━━━━━━━\u001b[0m\u001b[37m\u001b[0m \u001b[1m26s\u001b[0m 391ms/step - accuracy: 0.9988 - loss: 0.0044 - val_accuracy: 0.7616 - val_loss: 1.2503\n",
      "Epoch 48/100\n",
      "\u001b[1m65/65\u001b[0m \u001b[32m━━━━━━━━━━━━━━━━━━━━\u001b[0m\u001b[37m\u001b[0m \u001b[1m20s\u001b[0m 313ms/step - accuracy: 0.9972 - loss: 0.0100 - val_accuracy: 0.7558 - val_loss: 1.0017\n",
      "Epoch 49/100\n",
      "\u001b[1m65/65\u001b[0m \u001b[32m━━━━━━━━━━━━━━━━━━━━\u001b[0m\u001b[37m\u001b[0m \u001b[1m30s\u001b[0m 461ms/step - accuracy: 0.9973 - loss: 0.0130 - val_accuracy: 0.7810 - val_loss: 1.0098\n",
      "Epoch 50/100\n",
      "\u001b[1m65/65\u001b[0m \u001b[32m━━━━━━━━━━━━━━━━━━━━\u001b[0m\u001b[37m\u001b[0m \u001b[1m42s\u001b[0m 638ms/step - accuracy: 0.9967 - loss: 0.0087 - val_accuracy: 0.7868 - val_loss: 1.0566\n",
      "Epoch 51/100\n",
      "\u001b[1m65/65\u001b[0m \u001b[32m━━━━━━━━━━━━━━━━━━━━\u001b[0m\u001b[37m\u001b[0m \u001b[1m42s\u001b[0m 647ms/step - accuracy: 0.9965 - loss: 0.0087 - val_accuracy: 0.7752 - val_loss: 1.2072\n",
      "Epoch 52/100\n",
      "\u001b[1m65/65\u001b[0m \u001b[32m━━━━━━━━━━━━━━━━━━━━\u001b[0m\u001b[37m\u001b[0m \u001b[1m41s\u001b[0m 624ms/step - accuracy: 0.9938 - loss: 0.0140 - val_accuracy: 0.7771 - val_loss: 1.0837\n",
      "Epoch 53/100\n",
      "\u001b[1m65/65\u001b[0m \u001b[32m━━━━━━━━━━━━━━━━━━━━\u001b[0m\u001b[37m\u001b[0m \u001b[1m42s\u001b[0m 633ms/step - accuracy: 0.9977 - loss: 0.0089 - val_accuracy: 0.7752 - val_loss: 1.0245\n",
      "Epoch 54/100\n",
      "\u001b[1m65/65\u001b[0m \u001b[32m━━━━━━━━━━━━━━━━━━━━\u001b[0m\u001b[37m\u001b[0m \u001b[1m83s\u001b[0m 644ms/step - accuracy: 0.9983 - loss: 0.0037 - val_accuracy: 0.7907 - val_loss: 1.0127\n",
      "Epoch 55/100\n",
      "\u001b[1m65/65\u001b[0m \u001b[32m━━━━━━━━━━━━━━━━━━━━\u001b[0m\u001b[37m\u001b[0m \u001b[1m41s\u001b[0m 634ms/step - accuracy: 0.9948 - loss: 0.0110 - val_accuracy: 0.7733 - val_loss: 1.0056\n",
      "Epoch 56/100\n",
      "\u001b[1m65/65\u001b[0m \u001b[32m━━━━━━━━━━━━━━━━━━━━\u001b[0m\u001b[37m\u001b[0m \u001b[1m66s\u001b[0m 383ms/step - accuracy: 0.9982 - loss: 0.0121 - val_accuracy: 0.7713 - val_loss: 1.3048\n",
      "Epoch 57/100\n",
      "\u001b[1m65/65\u001b[0m \u001b[32m━━━━━━━━━━━━━━━━━━━━\u001b[0m\u001b[37m\u001b[0m \u001b[1m41s\u001b[0m 376ms/step - accuracy: 0.9953 - loss: 0.0161 - val_accuracy: 0.7713 - val_loss: 1.0976\n",
      "Epoch 58/100\n",
      "\u001b[1m65/65\u001b[0m \u001b[32m━━━━━━━━━━━━━━━━━━━━\u001b[0m\u001b[37m\u001b[0m \u001b[1m37s\u001b[0m 575ms/step - accuracy: 0.9961 - loss: 0.0148 - val_accuracy: 0.7771 - val_loss: 1.1833\n",
      "Epoch 59/100\n",
      "\u001b[1m65/65\u001b[0m \u001b[32m━━━━━━━━━━━━━━━━━━━━\u001b[0m\u001b[37m\u001b[0m \u001b[1m43s\u001b[0m 660ms/step - accuracy: 0.9955 - loss: 0.0108 - val_accuracy: 0.7597 - val_loss: 1.3293\n",
      "Epoch 60/100\n",
      "\u001b[1m65/65\u001b[0m \u001b[32m━━━━━━━━━━━━━━━━━━━━\u001b[0m\u001b[37m\u001b[0m \u001b[1m74s\u001b[0m 539ms/step - accuracy: 0.9966 - loss: 0.0171 - val_accuracy: 0.7810 - val_loss: 1.2791\n",
      "Epoch 61/100\n",
      "\u001b[1m65/65\u001b[0m \u001b[32m━━━━━━━━━━━━━━━━━━━━\u001b[0m\u001b[37m\u001b[0m \u001b[1m36s\u001b[0m 552ms/step - accuracy: 0.9962 - loss: 0.0089 - val_accuracy: 0.7810 - val_loss: 1.1522\n",
      "Epoch 62/100\n",
      "\u001b[1m65/65\u001b[0m \u001b[32m━━━━━━━━━━━━━━━━━━━━\u001b[0m\u001b[37m\u001b[0m \u001b[1m22s\u001b[0m 334ms/step - accuracy: 0.9990 - loss: 0.0043 - val_accuracy: 0.7810 - val_loss: 1.3745\n",
      "Epoch 63/100\n",
      "\u001b[1m65/65\u001b[0m \u001b[32m━━━━━━━━━━━━━━━━━━━━\u001b[0m\u001b[37m\u001b[0m \u001b[1m42s\u001b[0m 649ms/step - accuracy: 0.9960 - loss: 0.0143 - val_accuracy: 0.7713 - val_loss: 1.0651\n",
      "Epoch 64/100\n",
      "\u001b[1m65/65\u001b[0m \u001b[32m━━━━━━━━━━━━━━━━━━━━\u001b[0m\u001b[37m\u001b[0m \u001b[1m44s\u001b[0m 672ms/step - accuracy: 0.9953 - loss: 0.0140 - val_accuracy: 0.7791 - val_loss: 1.1735\n",
      "Epoch 65/100\n",
      "\u001b[1m65/65\u001b[0m \u001b[32m━━━━━━━━━━━━━━━━━━━━\u001b[0m\u001b[37m\u001b[0m \u001b[1m45s\u001b[0m 683ms/step - accuracy: 0.9963 - loss: 0.0071 - val_accuracy: 0.7733 - val_loss: 1.3350\n",
      "Epoch 66/100\n",
      "\u001b[1m65/65\u001b[0m \u001b[32m━━━━━━━━━━━━━━━━━━━━\u001b[0m\u001b[37m\u001b[0m \u001b[1m45s\u001b[0m 691ms/step - accuracy: 0.9995 - loss: 0.0037 - val_accuracy: 0.7810 - val_loss: 1.6721\n",
      "Epoch 67/100\n",
      "\u001b[1m65/65\u001b[0m \u001b[32m━━━━━━━━━━━━━━━━━━━━\u001b[0m\u001b[37m\u001b[0m \u001b[1m73s\u001b[0m 546ms/step - accuracy: 0.9944 - loss: 0.0160 - val_accuracy: 0.7771 - val_loss: 1.1011\n",
      "Epoch 68/100\n",
      "\u001b[1m65/65\u001b[0m \u001b[32m━━━━━━━━━━━━━━━━━━━━\u001b[0m\u001b[37m\u001b[0m \u001b[1m41s\u001b[0m 551ms/step - accuracy: 0.9985 - loss: 0.0076 - val_accuracy: 0.7752 - val_loss: 1.0493\n",
      "Epoch 69/100\n",
      "\u001b[1m65/65\u001b[0m \u001b[32m━━━━━━━━━━━━━━━━━━━━\u001b[0m\u001b[37m\u001b[0m \u001b[1m24s\u001b[0m 366ms/step - accuracy: 0.9969 - loss: 0.0109 - val_accuracy: 0.7868 - val_loss: 1.0825\n",
      "Epoch 70/100\n",
      "\u001b[1m65/65\u001b[0m \u001b[32m━━━━━━━━━━━━━━━━━━━━\u001b[0m\u001b[37m\u001b[0m \u001b[1m32s\u001b[0m 490ms/step - accuracy: 0.9975 - loss: 0.0082 - val_accuracy: 0.7810 - val_loss: 1.0538\n",
      "Epoch 71/100\n",
      "\u001b[1m65/65\u001b[0m \u001b[32m━━━━━━━━━━━━━━━━━━━━\u001b[0m\u001b[37m\u001b[0m \u001b[1m44s\u001b[0m 671ms/step - accuracy: 0.9990 - loss: 0.0039 - val_accuracy: 0.7868 - val_loss: 1.2244\n",
      "Epoch 72/100\n",
      "\u001b[1m65/65\u001b[0m \u001b[32m━━━━━━━━━━━━━━━━━━━━\u001b[0m\u001b[37m\u001b[0m \u001b[1m42s\u001b[0m 638ms/step - accuracy: 0.9993 - loss: 0.0041 - val_accuracy: 0.7946 - val_loss: 1.3522\n",
      "Epoch 73/100\n",
      "\u001b[1m65/65\u001b[0m \u001b[32m━━━━━━━━━━━━━━━━━━━━\u001b[0m\u001b[37m\u001b[0m \u001b[1m82s\u001b[0m 639ms/step - accuracy: 0.9993 - loss: 0.0023 - val_accuracy: 0.7907 - val_loss: 1.6404\n",
      "Epoch 74/100\n",
      "\u001b[1m65/65\u001b[0m \u001b[32m━━━━━━━━━━━━━━━━━━━━\u001b[0m\u001b[37m\u001b[0m \u001b[1m42s\u001b[0m 653ms/step - accuracy: 0.9974 - loss: 0.0120 - val_accuracy: 0.7946 - val_loss: 1.0875\n",
      "Epoch 75/100\n",
      "\u001b[1m65/65\u001b[0m \u001b[32m━━━━━━━━━━━━━━━━━━━━\u001b[0m\u001b[37m\u001b[0m \u001b[1m103s\u001b[0m 979ms/step - accuracy: 0.9966 - loss: 0.0076 - val_accuracy: 0.7888 - val_loss: 1.1777\n",
      "Epoch 76/100\n",
      "\u001b[1m65/65\u001b[0m \u001b[32m━━━━━━━━━━━━━━━━━━━━\u001b[0m\u001b[37m\u001b[0m \u001b[1m82s\u001b[0m 984ms/step - accuracy: 0.9952 - loss: 0.0112 - val_accuracy: 0.7907 - val_loss: 1.2099\n",
      "Epoch 77/100\n",
      "\u001b[1m65/65\u001b[0m \u001b[32m━━━━━━━━━━━━━━━━━━━━\u001b[0m\u001b[37m\u001b[0m \u001b[1m60s\u001b[0m 923ms/step - accuracy: 0.9971 - loss: 0.0067 - val_accuracy: 0.7713 - val_loss: 1.2856\n",
      "Epoch 78/100\n",
      "\u001b[1m65/65\u001b[0m \u001b[32m━━━━━━━━━━━━━━━━━━━━\u001b[0m\u001b[37m\u001b[0m \u001b[1m74s\u001b[0m 795ms/step - accuracy: 0.9992 - loss: 0.0052 - val_accuracy: 0.7791 - val_loss: 1.2741\n",
      "Epoch 79/100\n",
      "\u001b[1m65/65\u001b[0m \u001b[32m━━━━━━━━━━━━━━━━━━━━\u001b[0m\u001b[37m\u001b[0m \u001b[1m64s\u001b[0m 982ms/step - accuracy: 0.9966 - loss: 0.0079 - val_accuracy: 0.7733 - val_loss: 1.4727\n",
      "Epoch 80/100\n",
      "\u001b[1m65/65\u001b[0m \u001b[32m━━━━━━━━━━━━━━━━━━━━\u001b[0m\u001b[37m\u001b[0m \u001b[1m77s\u001b[0m 909ms/step - accuracy: 0.9947 - loss: 0.0125 - val_accuracy: 0.7849 - val_loss: 1.0881\n",
      "Epoch 81/100\n",
      "\u001b[1m65/65\u001b[0m \u001b[32m━━━━━━━━━━━━━━━━━━━━\u001b[0m\u001b[37m\u001b[0m \u001b[1m61s\u001b[0m 930ms/step - accuracy: 0.9959 - loss: 0.0101 - val_accuracy: 0.7868 - val_loss: 1.3493\n",
      "Epoch 82/100\n",
      "\u001b[1m65/65\u001b[0m \u001b[32m━━━━━━━━━━━━━━━━━━━━\u001b[0m\u001b[37m\u001b[0m \u001b[1m86s\u001b[0m 985ms/step - accuracy: 0.9988 - loss: 0.0046 - val_accuracy: 0.7946 - val_loss: 1.5144\n",
      "Epoch 83/100\n",
      "\u001b[1m65/65\u001b[0m \u001b[32m━━━━━━━━━━━━━━━━━━━━\u001b[0m\u001b[37m\u001b[0m \u001b[1m62s\u001b[0m 947ms/step - accuracy: 0.9952 - loss: 0.0118 - val_accuracy: 0.7771 - val_loss: 1.2536\n",
      "Epoch 84/100\n",
      "\u001b[1m65/65\u001b[0m \u001b[32m━━━━━━━━━━━━━━━━━━━━\u001b[0m\u001b[37m\u001b[0m \u001b[1m55s\u001b[0m 849ms/step - accuracy: 0.9994 - loss: 0.0064 - val_accuracy: 0.7868 - val_loss: 1.1072\n",
      "Epoch 85/100\n",
      "\u001b[1m65/65\u001b[0m \u001b[32m━━━━━━━━━━━━━━━━━━━━\u001b[0m\u001b[37m\u001b[0m \u001b[1m66s\u001b[0m 1s/step - accuracy: 0.9980 - loss: 0.0059 - val_accuracy: 0.7849 - val_loss: 1.4999\n",
      "Epoch 86/100\n",
      "\u001b[1m65/65\u001b[0m \u001b[32m━━━━━━━━━━━━━━━━━━━━\u001b[0m\u001b[37m\u001b[0m \u001b[1m78s\u001b[0m 957ms/step - accuracy: 0.9962 - loss: 0.0074 - val_accuracy: 0.7810 - val_loss: 1.4661\n",
      "Epoch 87/100\n",
      "\u001b[1m65/65\u001b[0m \u001b[32m━━━━━━━━━━━━━━━━━━━━\u001b[0m\u001b[37m\u001b[0m \u001b[1m60s\u001b[0m 917ms/step - accuracy: 0.9980 - loss: 0.0155 - val_accuracy: 0.7810 - val_loss: 1.2417\n",
      "Epoch 88/100\n",
      "\u001b[1m65/65\u001b[0m \u001b[32m━━━━━━━━━━━━━━━━━━━━\u001b[0m\u001b[37m\u001b[0m \u001b[1m56s\u001b[0m 869ms/step - accuracy: 0.9977 - loss: 0.0046 - val_accuracy: 0.7791 - val_loss: 1.6250\n",
      "Epoch 89/100\n",
      "\u001b[1m65/65\u001b[0m \u001b[32m━━━━━━━━━━━━━━━━━━━━\u001b[0m\u001b[37m\u001b[0m \u001b[1m91s\u001b[0m 1s/step - accuracy: 0.9981 - loss: 0.0091 - val_accuracy: 0.7907 - val_loss: 1.1731\n",
      "Epoch 90/100\n",
      "\u001b[1m65/65\u001b[0m \u001b[32m━━━━━━━━━━━━━━━━━━━━\u001b[0m\u001b[37m\u001b[0m \u001b[1m79s\u001b[0m 968ms/step - accuracy: 0.9969 - loss: 0.0075 - val_accuracy: 0.7810 - val_loss: 1.6285\n",
      "Epoch 91/100\n",
      "\u001b[1m65/65\u001b[0m \u001b[32m━━━━━━━━━━━━━━━━━━━━\u001b[0m\u001b[37m\u001b[0m \u001b[1m59s\u001b[0m 904ms/step - accuracy: 0.9973 - loss: 0.0126 - val_accuracy: 0.7791 - val_loss: 0.9505\n",
      "Epoch 92/100\n",
      "\u001b[1m65/65\u001b[0m \u001b[32m━━━━━━━━━━━━━━━━━━━━\u001b[0m\u001b[37m\u001b[0m \u001b[1m51s\u001b[0m 786ms/step - accuracy: 0.9990 - loss: 0.0065 - val_accuracy: 0.7810 - val_loss: 1.1283\n",
      "Epoch 93/100\n",
      "\u001b[1m65/65\u001b[0m \u001b[32m━━━━━━━━━━━━━━━━━━━━\u001b[0m\u001b[37m\u001b[0m \u001b[1m21s\u001b[0m 319ms/step - accuracy: 0.9979 - loss: 0.0055 - val_accuracy: 0.7655 - val_loss: 1.5996\n",
      "Epoch 94/100\n",
      "\u001b[1m65/65\u001b[0m \u001b[32m━━━━━━━━━━━━━━━━━━━━\u001b[0m\u001b[37m\u001b[0m \u001b[1m30s\u001b[0m 463ms/step - accuracy: 0.9989 - loss: 0.0028 - val_accuracy: 0.7771 - val_loss: 1.7501\n",
      "Epoch 95/100\n",
      "\u001b[1m65/65\u001b[0m \u001b[32m━━━━━━━━━━━━━━━━━━━━\u001b[0m\u001b[37m\u001b[0m \u001b[1m50s\u001b[0m 606ms/step - accuracy: 0.9951 - loss: 0.0171 - val_accuracy: 0.7674 - val_loss: 0.9444\n",
      "Epoch 96/100\n",
      "\u001b[1m65/65\u001b[0m \u001b[32m━━━━━━━━━━━━━━━━━━━━\u001b[0m\u001b[37m\u001b[0m \u001b[1m41s\u001b[0m 601ms/step - accuracy: 0.9981 - loss: 0.0061 - val_accuracy: 0.7694 - val_loss: 1.2742\n",
      "Epoch 97/100\n",
      "\u001b[1m65/65\u001b[0m \u001b[32m━━━━━━━━━━━━━━━━━━━━\u001b[0m\u001b[37m\u001b[0m \u001b[1m39s\u001b[0m 595ms/step - accuracy: 0.9968 - loss: 0.0088 - val_accuracy: 0.7616 - val_loss: 1.1373\n",
      "Epoch 98/100\n",
      "\u001b[1m65/65\u001b[0m \u001b[32m━━━━━━━━━━━━━━━━━━━━\u001b[0m\u001b[37m\u001b[0m \u001b[1m39s\u001b[0m 603ms/step - accuracy: 0.9935 - loss: 0.0185 - val_accuracy: 0.7868 - val_loss: 1.2739\n",
      "Epoch 99/100\n",
      "\u001b[1m65/65\u001b[0m \u001b[32m━━━━━━━━━━━━━━━━━━━━\u001b[0m\u001b[37m\u001b[0m \u001b[1m39s\u001b[0m 599ms/step - accuracy: 0.9990 - loss: 0.0043 - val_accuracy: 0.7926 - val_loss: 1.1902\n",
      "Epoch 100/100\n",
      "\u001b[1m65/65\u001b[0m \u001b[32m━━━━━━━━━━━━━━━━━━━━\u001b[0m\u001b[37m\u001b[0m \u001b[1m39s\u001b[0m 604ms/step - accuracy: 0.9989 - loss: 0.0044 - val_accuracy: 0.7946 - val_loss: 1.3643\n"
     ]
    }
   ],
   "source": [
    "# 모델 학습\n",
    "history = model.fit(\n",
    "    X_train, y_train,\n",
    "    validation_data=(X_val, y_val),\n",
    "    epochs=100,\n",
    "    batch_size=32\n",
    ")"
   ]
  },
  {
   "cell_type": "code",
   "execution_count": 23,
   "id": "c4aed41a-47d1-456a-928c-8b2f336d2671",
   "metadata": {},
   "outputs": [
    {
     "name": "stderr",
     "output_type": "stream",
     "text": [
      "WARNING:absl:You are saving your model as an HDF5 file via `model.save()` or `keras.saving.save_model(model)`. This file format is considered legacy. We recommend using instead the native Keras format, e.g. `model.save('my_model.keras')` or `keras.saving.save_model(model, 'my_model.keras')`. \n"
     ]
    },
    {
     "name": "stdout",
     "output_type": "stream",
     "text": [
      "Model saved!\n"
     ]
    }
   ],
   "source": [
    "# 학습 결과 저장\n",
    "model.save(\"eeg_cnn_model_mj.h5\")\n",
    "print(\"Model saved!\")"
   ]
  },
  {
   "cell_type": "code",
   "execution_count": 24,
   "id": "84a0f54f-02f2-45ab-a57a-4edd850a2407",
   "metadata": {},
   "outputs": [
    {
     "name": "stderr",
     "output_type": "stream",
     "text": [
      "WARNING:absl:Compiled the loaded model, but the compiled metrics have yet to be built. `model.compile_metrics` will be empty until you train or evaluate the model.\n"
     ]
    },
    {
     "name": "stdout",
     "output_type": "stream",
     "text": [
      "\u001b[1m17/17\u001b[0m \u001b[32m━━━━━━━━━━━━━━━━━━━━\u001b[0m\u001b[37m\u001b[0m \u001b[1m3s\u001b[0m 75ms/step - accuracy: 0.7878 - loss: 1.2904\n",
      "Validation Loss: 1.364349126815796, Validation Accuracy: 0.7945736646652222\n"
     ]
    }
   ],
   "source": [
    "# 모델 로드 및 평가\n",
    "model = tf.keras.models.load_model(\"eeg_cnn_model_mj.h5\")\n",
    "loss, accuracy = model.evaluate(X_val, y_val)\n",
    "print(f\"Validation Loss: {loss}, Validation Accuracy: {accuracy}\")\n"
   ]
  },
  {
   "cell_type": "code",
   "execution_count": 25,
   "id": "60dc03dc-c1f5-4180-9ba9-10374dd76344",
   "metadata": {},
   "outputs": [
    {
     "name": "stdout",
     "output_type": "stream",
     "text": [
      "\u001b[1m1/1\u001b[0m \u001b[32m━━━━━━━━━━━━━━━━━━━━\u001b[0m\u001b[37m\u001b[0m \u001b[1m0s\u001b[0m 378ms/step\n",
      "Prediction (0=negative, 1=positive): 0.5759570002555847\n"
     ]
    }
   ],
   "source": [
    "# 테스트 데이터 예측\n",
    "test_sample = X_val[0]  # 임의의 샘플\n",
    "test_sample = np.expand_dims(test_sample, axis=0)  # 배치 차원 추가\n",
    "prediction = model.predict(test_sample)\n",
    "\n",
    "# 결과 출력\n",
    "print(f\"Prediction (0=negative, 1=positive): {prediction[0][0]}\")"
   ]
  }
 ],
 "metadata": {
  "kernelspec": {
   "display_name": "Python 3 (ipykernel)",
   "language": "python",
   "name": "python3"
  },
  "language_info": {
   "codemirror_mode": {
    "name": "ipython",
    "version": 3
   },
   "file_extension": ".py",
   "mimetype": "text/x-python",
   "name": "python",
   "nbconvert_exporter": "python",
   "pygments_lexer": "ipython3",
   "version": "3.12.2"
  }
 },
 "nbformat": 4,
 "nbformat_minor": 5
}
