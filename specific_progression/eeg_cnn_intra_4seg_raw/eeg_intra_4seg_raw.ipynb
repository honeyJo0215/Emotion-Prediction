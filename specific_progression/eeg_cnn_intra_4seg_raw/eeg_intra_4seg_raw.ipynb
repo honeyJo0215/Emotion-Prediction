{
 "cells": [
  {
   "cell_type": "code",
   "execution_count": null,
   "id": "c0f82180-881e-4159-bb16-57113e9372d0",
   "metadata": {},
   "outputs": [],
   "source": []
  },
  {
   "cell_type": "code",
   "execution_count": null,
   "id": "19137eaa-53c0-4c5b-9779-e18a42ea3e98",
   "metadata": {},
   "outputs": [],
   "source": []
  },
  {
   "cell_type": "code",
   "execution_count": null,
   "id": "0acf5a4f-99b9-4687-b255-0d6d1e0d47ff",
   "metadata": {},
   "outputs": [],
   "source": []
  }
 ],
 "metadata": {
  "kernelspec": {
   "display_name": "Python 3 (ipykernel)",
   "language": "python",
   "name": "python3"
  },
  "language_info": {
   "codemirror_mode": {
    "name": "ipython",
    "version": 3
   },
   "file_extension": ".py",
   "mimetype": "text/x-python",
   "name": "python",
   "nbconvert_exporter": "python",
   "pygments_lexer": "ipython3",
   "version": "3.12.2"
  }
 },
 "nbformat": 4,
 "nbformat_minor": 5
}
