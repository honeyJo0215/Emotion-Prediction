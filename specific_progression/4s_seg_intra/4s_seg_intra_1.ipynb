{
 "cells": [
  {
   "cell_type": "markdown",
   "metadata": {},
   "source": [
    "라이브러리 로드"
   ]
  },
  {
   "cell_type": "code",
   "execution_count": null,
   "metadata": {},
   "outputs": [],
   "source": [
    "import os\n",
    "import numpy as np\n",
    "import tensorflow as tf\n",
    "from tensorflow.keras.models import Sequential\n",
    "from tensorflow.keras.layers import Conv1D, MaxPooling1D, Flatten, Dense, Dropout\n",
    "from sklearn.model_selection import StratifiedKFold\n",
    "from sklearn.metrics import classification_report\n",
    "from sklearn.model_selection import train_test_split"
   ]
  },
  {
   "cell_type": "markdown",
   "metadata": {},
   "source": [
    "gpu 설정"
   ]
  },
  {
   "cell_type": "code",
   "execution_count": null,
   "metadata": {},
   "outputs": [],
   "source": [
    "gpus = tf.config.list_physical_devices('GPU')\n",
    "if gpus:\n",
    "    try:\n",
    "        for gpu in gpus:\n",
    "            try:\n",
    "                # 최신 API 사용\n",
    "                tf.config.set_memory_growth(gpu, True)\n",
    "                print(f\"Set memory growth for GPU: {gpu}\")\n",
    "            except AttributeError:\n",
    "                # 이전 API 사용\n",
    "                tf.config.experimental.set_memory_growth(gpu, True)\n",
    "                print(f\"Set memory growth for GPU using experimental API: {gpu}\")\n",
    "    except RuntimeError as e:\n",
    "        print(f\"Failed to set memory growth: {e}\")\n",
    "else:\n",
    "    print(\"No GPU devices found. Running on CPU.\")"
   ]
  },
  {
   "cell_type": "markdown",
   "metadata": {},
   "source": [
    "로드 데이터"
   ]
  },
  {
   "cell_type": "code",
   "execution_count": null,
   "metadata": {},
   "outputs": [],
   "source": [
    "def load_segmented_data(data_dir):\n",
    "    \"\"\"\n",
    "    세분화된 데이터를 로드합니다.\n",
    "\n",
    "    Args:\n",
    "        data_dir (str): EEG 데이터가 저장된 디렉토리 경로.\n",
    "\n",
    "    Returns:\n",
    "        np.array, np.array, np.array: 특징(feature) 데이터, 라벨(label) 데이터, 참가자 데이터.\n",
    "    \"\"\"\n",
    "    X = []\n",
    "    y = []\n",
    "    participants = []\n",
    "\n",
    "    for file in os.listdir(data_dir):\n",
    "        if file.endswith(\"_FB.npy\"):\n",
    "            file_path = os.path.join(data_dir, file)\n",
    "            data = np.load(file_path, allow_pickle=True)  # (samples, timesteps, channels)\n",
    "\n",
    "            label = 1 if \"positive\" in file else 0\n",
    "            participant = file.split('_')[0]  # e.g., s01\n",
    "\n",
    "            for sample in data:\n",
    "                X.append(sample)\n",
    "                y.append(label)\n",
    "                participants.append(participant)\n",
    "\n",
    "    X = np.array(X)\n",
    "    y = np.array(y)\n",
    "    participants = np.array(participants)\n",
    "\n",
    "    return X, y, participants\n"
   ]
  },
  {
   "cell_type": "markdown",
   "metadata": {},
   "source": [
    "모델 정의(3블록 CNN)"
   ]
  },
  {
   "cell_type": "code",
   "execution_count": null,
   "metadata": {},
   "outputs": [],
   "source": [
    "def build_model(input_shape):\n",
    "    \"\"\"\n",
    "    Sequential API 모델 정의.\n",
    "\n",
    "    Args:\n",
    "        input_shape (tuple): 입력 데이터 형태.\n",
    "\n",
    "    Returns:\n",
    "        model (tf.keras.Model): 컴파일된 Conv1D 모델.\n",
    "    \"\"\"\n",
    "    if len(input_shape) != 2:\n",
    "        raise ValueError(f\"Expected input shape to have 2 dimensions (timesteps, channels), got {input_shape}.\")\n",
    "\n",
    "    model = Sequential([\n",
    "        Conv1D(32, kernel_size=3, activation='relu', input_shape=input_shape),\n",
    "        MaxPooling1D(pool_size=2),\n",
    "        Dropout(0.3),\n",
    "\n",
    "        Conv1D(64, kernel_size=3, activation='relu'),\n",
    "        MaxPooling1D(pool_size=2),\n",
    "        Dropout(0.3),\n",
    "\n",
    "        Conv1D(128, kernel_size=3, activation='relu'),\n",
    "        MaxPooling1D(pool_size=2),\n",
    "        Dropout(0.3),\n",
    "\n",
    "        Flatten(),\n",
    "        Dense(128, activation='relu'),\n",
    "        Dropout(0.4),\n",
    "        Dense(1, activation='sigmoid')\n",
    "    ])\n",
    "    model.compile(optimizer='adam', loss='binary_crossentropy', metrics=['accuracy'])\n",
    "    return model"
   ]
  },
  {
   "cell_type": "markdown",
   "metadata": {},
   "source": [
    "데이터 train_test_split으로 분리, 모델학습 및 평가"
   ]
  },
  {
   "cell_type": "code",
   "execution_count": null,
   "metadata": {},
   "outputs": [],
   "source": [
    "def train_intra_subject(data_dir, result_dir, model_dir):\n",
    "    \"\"\"\n",
    "    Sequential API 모델을 사용하여 raw 데이터를 intra-subject 방식으로 학습 및 평가.\n",
    "\n",
    "    Args:\n",
    "        data_dir (str): EEG 데이터가 저장된 디렉토리 경로.\n",
    "        result_dir (str): 평가 결과를 저장할 디렉토리 경로.\n",
    "        model_dir (str): 모델을 저장할 디렉토리 경로.\n",
    "    \"\"\"\n",
    "    participants = np.unique([file.split('_')[0] for file in os.listdir(data_dir) if file.endswith(\"_FB.npy\")])\n",
    "\n",
    "    for participant in participants:\n",
    "        print(f\"Processing participant {participant}...\")\n",
    "\n",
    "        # 데이터 로드\n",
    "        X, y, participants_data = load_segmented_data(data_dir)\n",
    "\n",
    "        # Participant 데이터 필터링\n",
    "        participant_mask = participants_data == participant\n",
    "        X_participant = X[participant_mask]\n",
    "        y_participant = y[participant_mask]\n",
    "\n",
    "        # Train/Validation/Test Split\n",
    "        X_train, X_test, y_train, y_test = train_test_split(\n",
    "            X_participant, y_participant, test_size=0.2, random_state=42, stratify=y_participant\n",
    "        )\n",
    "        X_train, X_val, y_train, y_val = train_test_split(\n",
    "            X_train, y_train, test_size=0.1, random_state=42, stratify=y_train\n",
    "        )\n",
    "\n",
    "        # Normalize data\n",
    "        X_train = X_train / (np.max(np.abs(X_train), axis=(1, 2), keepdims=True) + 1e-8)\n",
    "        X_val = X_val / (np.max(np.abs(X_val), axis=(1, 2), keepdims=True) + 1e-8)\n",
    "        X_test = X_test / (np.max(np.abs(X_test), axis=(1, 2), keepdims=True) + 1e-8)\n",
    "\n",
    "        # # Reshape data for Conv1D\n",
    "        # X_train = np.expand_dims(X_train, axis=-1)\n",
    "        # X_val = np.expand_dims(X_val, axis=-1)\n",
    "        # X_test = np.expand_dims(X_test, axis=-1)\n",
    "\n",
    "        model = build_model(X_train.shape[1:])\n",
    "\n",
    "        model.fit(\n",
    "            X_train, y_train,\n",
    "            validation_data=(X_val, y_val),\n",
    "            epochs=30, batch_size=32, verbose=1\n",
    "        )\n",
    "\n",
    "        # 모델 평가\n",
    "        y_pred = (model.predict(X_test) > 0.5).astype(int).flatten()\n",
    "        report = classification_report(y_test, y_pred, target_names=[\"negative\", \"positive\"], output_dict=False)\n",
    "        print(report)\n",
    "\n",
    "        # 모델 저장\n",
    "        model_save_path = os.path.join(model_dir, f\"{participant}_raw_model.h5\")\n",
    "        model.save(model_save_path)\n",
    "        print(f\"Model saved at {model_save_path}\")\n",
    "\n",
    "        # 결과 저장\n",
    "        result_save_path = os.path.join(result_dir, f\"{participant}_classification_report.txt\")\n",
    "        with open(result_save_path, \"w\") as f:\n",
    "            f.write(report)\n",
    "        print(f\"Results saved at {result_save_path}\")\n"
   ]
  },
  {
   "cell_type": "markdown",
   "metadata": {},
   "source": [
    "메인함수"
   ]
  },
  {
   "cell_type": "code",
   "execution_count": null,
   "metadata": {},
   "outputs": [],
   "source": [
    "def main():\n",
    "    base_dir = \"/home/bcml1/2025_EMOTION/DEAP_EEG/4s_seg_conv_ch_BPF\"\n",
    "    base2_dir = \"/home/bcml1/sigenv/4s_seg_intra_save\"\n",
    "    data_dir = base_dir\n",
    "    result_dir = os.path.join(base2_dir, \"results\")\n",
    "    model_dir = os.path.join(base2_dir, \"models\")\n",
    "\n",
    "    os.makedirs(result_dir, exist_ok=True)\n",
    "    os.makedirs(model_dir, exist_ok=True)\n",
    "\n",
    "    train_intra_subject(data_dir, result_dir, model_dir)\n",
    "\n",
    "if __name__ == \"__main__\":\n",
    "    main()\n"
   ]
  }
 ],
 "metadata": {
  "kernelspec": {
   "display_name": "mycondaenv",
   "language": "python",
   "name": "python3"
  },
  "language_info": {
   "name": "python",
   "version": "3.12.2"
  }
 },
 "nbformat": 4,
 "nbformat_minor": 2
}
